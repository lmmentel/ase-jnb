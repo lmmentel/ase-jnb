{
 "cells": [
  {
   "cell_type": "markdown",
   "metadata": {},
   "source": [
    "# Viewing ase structure using `imolecule`"
   ]
  },
  {
   "cell_type": "code",
   "execution_count": 2,
   "metadata": {
    "collapsed": true
   },
   "outputs": [],
   "source": [
    "import imolecule\n",
    "import numpy as np"
   ]
  },
  {
   "cell_type": "code",
   "execution_count": 3,
   "metadata": {
    "collapsed": true
   },
   "outputs": [],
   "source": [
    "def atoms_to_json(aseatoms, infer_bonds=True):\n",
    "    '''\n",
    "    Convert ASE Atoms isntance into the json format compatible with\n",
    "    \n",
    "    Args:\n",
    "        aseatoms : ase.Atoms\n",
    "            Instance of Atoms from ase package\n",
    "        infer_bonds : bool\n",
    "            If `True` bonds will be inferred using openbabel\n",
    "\n",
    "    Returns:\n",
    "        mol : dist\n",
    "            A dictionary with the json format of the molecule\n",
    "    '''\n",
    "\n",
    "    import pybel\n",
    "    ob = pybel.ob\n",
    "    \n",
    "    obmol = ob.OBMol()\n",
    "    obmol.BeginModify()\n",
    "    \n",
    "    for atom in aseatoms:\n",
    "        obatom = obmol.NewAtom()\n",
    "        obatom.SetAtomicNum(int(atom.number))\n",
    "        obatom.SetVector(*atom.position.tolist())\n",
    "\n",
    "    # If there is no bond data, try to infer them\n",
    "    if infer_bonds:\n",
    "        obmol.ConnectTheDots()\n",
    "        obmol.PerceiveBondOrders()\n",
    "    \n",
    "    # Check for unit cell data\n",
    "    if any(aseatoms.pbc):\n",
    "        uc = ob.OBUnitCell()\n",
    "        uc.SetData(*(ob.vector3(*v) for v in aseatoms.get_cell()))\n",
    "        uc.SetSpaceGroup('P1')\n",
    "        obmol.CloneData(uc)\n",
    "    obmol.EndModify()\n",
    "\n",
    "    mol = pybel.Molecule(obmol)\n",
    "\n",
    "    return imolecule.format_converter.pybel_to_json(mol)"
   ]
  },
  {
   "cell_type": "markdown",
   "metadata": {},
   "source": [
    "# Molecules"
   ]
  },
  {
   "cell_type": "code",
   "execution_count": 5,
   "metadata": {
    "collapsed": true
   },
   "outputs": [],
   "source": [
    "from ase.build import molecule"
   ]
  },
  {
   "cell_type": "code",
   "execution_count": 6,
   "metadata": {},
   "outputs": [
    {
     "data": {
      "text/html": [
       "<div id=\"molecule_246e7d26-f917-42e9-91f5-243ecb550893\"></div>\n",
       "           <script type=\"text/javascript\">\n",
       "           require.config({baseUrl: '/',\n",
       "                           paths: {imolecule: ['nbextensions/imolecule.min', 'https://rawgit.com/patrickfuller/imolecule/master/imolecule/js/build/imolecule.min']}});\n",
       "           require(['imolecule'], function () {\n",
       "               var $d = $('#molecule_246e7d26-f917-42e9-91f5-243ecb550893');\n",
       "               $d.width(800); $d.height(500);\n",
       "               $d.imolecule = jQuery.extend({}, imolecule);\n",
       "               $d.imolecule.create($d, {drawingType: 'ball and stick',\n",
       "                                        cameraType: 'perspective',\n",
       "                                        shader: 'lambert',\n",
       "                                        showSave: false});\n",
       "               $d.imolecule.addElements({});\n",
       "               $d.imolecule.draw({\"atoms\":[{\"charge\":-0.06175815206924317,\"element\":\"C\",\"location\":[0.0,1.395248,0.0]},{\"charge\":-0.06175815206924317,\"element\":\"C\",\"location\":[1.20832,0.697624,0.0]},{\"charge\":-0.06175815206924317,\"element\":\"C\",\"location\":[1.20832,-0.697624,0.0]},{\"charge\":-0.06175815206924317,\"element\":\"C\",\"location\":[0.0,-1.395248,0.0]},{\"charge\":-0.06175815206924317,\"element\":\"C\",\"location\":[-1.20832,-0.697624,0.0]},{\"charge\":-0.06175815206924317,\"element\":\"C\",\"location\":[-1.20832,0.697624,0.0]},{\"charge\":0.06175815206924317,\"element\":\"H\",\"location\":[0.0,2.48236,0.0]},{\"charge\":0.06175815206924317,\"element\":\"H\",\"location\":[2.149787,1.24118,0.0]},{\"charge\":0.06175815206924317,\"element\":\"H\",\"location\":[2.149787,-1.24118,0.0]},{\"charge\":0.06175815206924317,\"element\":\"H\",\"location\":[0.0,-2.48236,0.0]},{\"charge\":0.06175815206924317,\"element\":\"H\",\"location\":[-2.149787,-1.24118,0.0]},{\"charge\":0.06175815206924317,\"element\":\"H\",\"location\":[-2.149787,1.24118,0.0]}],\"bonds\":[{\"atoms\":[0,1],\"order\":2},{\"atoms\":[0,5],\"order\":1},{\"atoms\":[0,6],\"order\":1},{\"atoms\":[1,2],\"order\":1},{\"atoms\":[1,7],\"order\":1},{\"atoms\":[2,3],\"order\":2},{\"atoms\":[2,8],\"order\":1},{\"atoms\":[3,4],\"order\":1},{\"atoms\":[3,9],\"order\":1},{\"atoms\":[4,5],\"order\":2},{\"atoms\":[4,10],\"order\":1},{\"atoms\":[5,11],\"order\":1}],\"formula\":\"C6H6\",\"molecular_weight\":78.11184000000003,\"units\":{\"molecular_weight\":\"g / mol\"}});\n",
       "\n",
       "               $d.resizable({\n",
       "                   aspectRatio: 800 / 500,\n",
       "                   resize: function (evt, ui) {\n",
       "                       $d.imolecule.renderer.setSize(ui.size.width,\n",
       "                                                     ui.size.height);\n",
       "                   }\n",
       "               });\n",
       "           });\n",
       "           </script>"
      ],
      "text/plain": [
       "<IPython.core.display.HTML object>"
      ]
     },
     "metadata": {},
     "output_type": "display_data"
    }
   ],
   "source": [
    "benzene = molecule('C6H6')\n",
    "benzene_json = atoms_to_json(benzene)\n",
    "imolecule.draw(benzene_json, format='json', size=(800, 500))"
   ]
  },
  {
   "cell_type": "code",
   "execution_count": 9,
   "metadata": {},
   "outputs": [
    {
     "data": {
      "text/html": [
       "<div id=\"molecule_5babda55-49ab-4596-ac59-271b9f73dda9\"></div>\n",
       "           <script type=\"text/javascript\">\n",
       "           require.config({baseUrl: '/',\n",
       "                           paths: {imolecule: ['nbextensions/imolecule.min', 'https://rawgit.com/patrickfuller/imolecule/master/imolecule/js/build/imolecule.min']}});\n",
       "           require(['imolecule'], function () {\n",
       "               var $d = $('#molecule_5babda55-49ab-4596-ac59-271b9f73dda9');\n",
       "               $d.width(800); $d.height(500);\n",
       "               $d.imolecule = jQuery.extend({}, imolecule);\n",
       "               $d.imolecule.create($d, {drawingType: 'space filling',\n",
       "                                        cameraType: 'perspective',\n",
       "                                        shader: 'lambert',\n",
       "                                        showSave: false});\n",
       "               $d.imolecule.addElements({});\n",
       "               $d.imolecule.draw({\"atoms\":[{\"charge\":-0.06175815206924317,\"element\":\"C\",\"location\":[0.0,1.395248,0.0]},{\"charge\":-0.06175815206924317,\"element\":\"C\",\"location\":[1.20832,0.697624,0.0]},{\"charge\":-0.06175815206924317,\"element\":\"C\",\"location\":[1.20832,-0.697624,0.0]},{\"charge\":-0.06175815206924317,\"element\":\"C\",\"location\":[0.0,-1.395248,0.0]},{\"charge\":-0.06175815206924317,\"element\":\"C\",\"location\":[-1.20832,-0.697624,0.0]},{\"charge\":-0.06175815206924317,\"element\":\"C\",\"location\":[-1.20832,0.697624,0.0]},{\"charge\":0.06175815206924317,\"element\":\"H\",\"location\":[0.0,2.48236,0.0]},{\"charge\":0.06175815206924317,\"element\":\"H\",\"location\":[2.149787,1.24118,0.0]},{\"charge\":0.06175815206924317,\"element\":\"H\",\"location\":[2.149787,-1.24118,0.0]},{\"charge\":0.06175815206924317,\"element\":\"H\",\"location\":[0.0,-2.48236,0.0]},{\"charge\":0.06175815206924317,\"element\":\"H\",\"location\":[-2.149787,-1.24118,0.0]},{\"charge\":0.06175815206924317,\"element\":\"H\",\"location\":[-2.149787,1.24118,0.0]}],\"bonds\":[{\"atoms\":[0,1],\"order\":2},{\"atoms\":[0,5],\"order\":1},{\"atoms\":[0,6],\"order\":1},{\"atoms\":[1,2],\"order\":1},{\"atoms\":[1,7],\"order\":1},{\"atoms\":[2,3],\"order\":2},{\"atoms\":[2,8],\"order\":1},{\"atoms\":[3,4],\"order\":1},{\"atoms\":[3,9],\"order\":1},{\"atoms\":[4,5],\"order\":2},{\"atoms\":[4,10],\"order\":1},{\"atoms\":[5,11],\"order\":1}],\"density\":0.04727069743302741,\"formula\":\"CH\",\"molecular_weight\":13.018640000000005,\"unitcell\":[[14.0,0.0,0.0],[0.0,14.0,0.0],[-2.9582283945787943e-31,0.0,14.0]],\"units\":{\"density\":\"kg / L\",\"molecular_weight\":\"g / mol\"}});\n",
       "\n",
       "               $d.resizable({\n",
       "                   aspectRatio: 800 / 500,\n",
       "                   resize: function (evt, ui) {\n",
       "                       $d.imolecule.renderer.setSize(ui.size.width,\n",
       "                                                     ui.size.height);\n",
       "                   }\n",
       "               });\n",
       "           });\n",
       "           </script>"
      ],
      "text/plain": [
       "<IPython.core.display.HTML object>"
      ]
     },
     "metadata": {},
     "output_type": "display_data"
    }
   ],
   "source": [
    "benzene.set_cell(np.eye(3) * 14.0)\n",
    "benzene.set_pbc(True)\n",
    "benzene_json = atoms_to_json(benzene)\n",
    "imolecule.draw(benzene_json, format='json', size=(800, 500), drawing_type='space filling')"
   ]
  },
  {
   "cell_type": "markdown",
   "metadata": {},
   "source": [
    "# Zeolite"
   ]
  },
  {
   "cell_type": "code",
   "execution_count": 11,
   "metadata": {
    "collapsed": true
   },
   "outputs": [],
   "source": [
    "def from_string(string, fmt=None):\n",
    "    'Instantiate Atoms object from a string with specific format'\n",
    "\n",
    "    import ase.io\n",
    "    from tempfile import NamedTemporaryFile\n",
    "\n",
    "    with NamedTemporaryFile('r+') as ntf:\n",
    "        ntf.write(string)\n",
    "        ntf.seek(0)\n",
    "        atoms = ase.io.read(ntf, format=fmt)\n",
    "\n",
    "    return atoms"
   ]
  },
  {
   "cell_type": "code",
   "execution_count": 12,
   "metadata": {
    "collapsed": true
   },
   "outputs": [],
   "source": [
    "aficif ='''data_AFI\n",
    "#**************************************************************************\n",
    "#\n",
    "# CIF taken from the IZA-SC Database of Zeolite Structures\n",
    "# Ch. Baerlocher and L.B. McCusker\n",
    "# Database of Zeolite Structures: http://www.iza-structure.org/databases/ \n",
    "#\n",
    "# The atom coordinates and the cell parameters were optimized with DLS76\n",
    "# assuming a pure SiO2 composition.\n",
    "#\n",
    "#**************************************************************************\n",
    "\n",
    "\n",
    "_cell_length_a                  13.8270(0)\n",
    "_cell_length_b                  13.8270(0)\n",
    "_cell_length_c                   8.5800(0)\n",
    "_cell_angle_alpha               90.0000(0)\n",
    "_cell_angle_beta                90.0000(0)\n",
    "_cell_angle_gamma              120.0000(0)\n",
    "\n",
    "_symmetry_space_group_name_H-M     'P 6/m c c'\n",
    "_symmetry_Int_Tables_number         192\n",
    "_symmetry_cell_setting             hexagonal\n",
    "\n",
    "\n",
    "loop_\n",
    "_symmetry_equiv_pos_as_xyz\n",
    "'+x,+y,+z'\n",
    "'-y,+x-y,+z'\n",
    "'-x+y,-x,+z'\n",
    "'-x,-y,+z'\n",
    "'+y,-x+y,+z'\n",
    "'+x-y,+x,+z'\n",
    "'-y,-x,1/2+z'\n",
    "'-x+y,+y,1/2+z'\n",
    "'+x,+x-y,1/2+z'\n",
    "'+y,+x,1/2+z'\n",
    "'+x-y,-y,1/2+z'\n",
    "'-x,-x+y,1/2+z'\n",
    "'-x,-y,-z'\n",
    "'+y,-x+y,-z'\n",
    "'+x-y,+x,-z'\n",
    "'+x,+y,-z'\n",
    "'-y,+x-y,-z'\n",
    "'-x+y,-x,-z'\n",
    "'+y,+x,1/2-z'\n",
    "'+x-y,-y,1/2-z'\n",
    "'-x,-x+y,1/2-z'\n",
    "'-y,-x,1/2-z'\n",
    "'-x+y,+y,1/2-z'\n",
    "'+x,+x-y,1/2-z'\n",
    "\n",
    "loop_\n",
    "_atom_site_label\n",
    "_atom_site_type_symbol\n",
    "_atom_site_fract_x\n",
    "_atom_site_fract_y\n",
    "_atom_site_fract_z\n",
    "    O1    O      0.4565    0.3333    0.0000\n",
    "    O2    O      0.3693    0.3693    0.2500\n",
    "    O3    O      0.4200    0.2100    0.2500\n",
    "    O4    O      0.5798    0.4202    0.2500\n",
    "    T1    Si     0.4565    0.3334    0.1874\n",
    "\n",
    "'''"
   ]
  },
  {
   "cell_type": "code",
   "execution_count": 13,
   "metadata": {},
   "outputs": [
    {
     "data": {
      "text/plain": [
       "Atoms(symbols='O48Si24', pbc=True, cell=[[13.827, 0.0, 0.0], [-6.913499999999997, 11.974533258127433, 0.0], [5.253734768342146e-16, 9.0997355482597e-16, 8.58]])"
      ]
     },
     "execution_count": 13,
     "metadata": {},
     "output_type": "execute_result"
    }
   ],
   "source": [
    "afi = from_string(aficif, fmt='cif')\n",
    "afi"
   ]
  },
  {
   "cell_type": "code",
   "execution_count": 15,
   "metadata": {},
   "outputs": [
    {
     "data": {
      "text/html": [
       "<div id=\"molecule_611cdb76-5156-4531-a47b-f7f1b46fa1d1\"></div>\n",
       "           <script type=\"text/javascript\">\n",
       "           require.config({baseUrl: '/',\n",
       "                           paths: {imolecule: ['nbextensions/imolecule.min', 'https://rawgit.com/patrickfuller/imolecule/master/imolecule/js/build/imolecule.min']}});\n",
       "           require(['imolecule'], function () {\n",
       "               var $d = $('#molecule_611cdb76-5156-4531-a47b-f7f1b46fa1d1');\n",
       "               $d.width(800); $d.height(500);\n",
       "               $d.imolecule = jQuery.extend({}, imolecule);\n",
       "               $d.imolecule.create($d, {drawingType: 'ball and stick',\n",
       "                                        cameraType: 'perspective',\n",
       "                                        shader: 'lambert',\n",
       "                                        showSave: false});\n",
       "               $d.imolecule.addElements({});\n",
       "               $d.imolecule.draw({\"atoms\":[{\"element\":\"O\",\"location\":[0.7430476166666673,-1.6635287702929684,-3.9325000000000028]},{\"element\":\"O\",\"location\":[5.1020093666666675,-4.1793782078255415,-3.9325000000000028]},{\"element\":\"O\",\"location\":[5.101318016666669,0.8535181205654183,-3.9325000000000028]},{\"element\":\"O\",\"location\":[-0.35896428333333175,2.3287806179667188,-3.9325000000000028]},{\"element\":\"O\",\"location\":[-4.717926033333331,4.844630055499292,-3.9325000000000028]},{\"element\":\"O\",\"location\":[-4.7172346833333325,-0.18826627289166886,-3.9325000000000028]},{\"element\":\"O\",\"location\":[2.196265316666668,0.8535181205654192,0.35749999999999726]},{\"element\":\"O\",\"location\":[6.554535716666669,-1.663528770292968,0.35749999999999726]},{\"element\":\"O\",\"location\":[2.1955739666666667,-4.1793782078255415,0.35749999999999726]},{\"element\":\"O\",\"location\":[-1.8121819833333326,-0.18826627289166797,0.35749999999999726]},{\"element\":\"O\",\"location\":[-6.1704523833333305,2.3287806179667196,0.35749999999999726]},{\"element\":\"O\",\"location\":[-1.811490633333331,4.844630055499292,0.35749999999999726]},{\"element\":\"O\",\"location\":[-0.7115527833333326,-1.2324455730003807,-1.7875000000000028]},{\"element\":\"O\",\"location\":[5.455980566666668,-5.654640705226842,-1.7875000000000028]},{\"element\":\"O\",\"location\":[-7.625052783333333,1.897697420674131,-1.7875000000000028]},{\"element\":\"O\",\"location\":[1.0956361166666686,1.897697420674131,-1.7875000000000028]},{\"element\":\"O\",\"location\":[1.8416027666666666,-5.654640705226842,-1.7875000000000028]},{\"element\":\"O\",\"location\":[-5.817863883333333,-1.2324455730003807,-1.7875000000000028]},{\"element\":\"O\",\"location\":[1.0956361166666686,1.897697420674132,2.5024999999999977]},{\"element\":\"O\",\"location\":[-5.817863883333333,-1.2324455730003798,2.5024999999999977]},{\"element\":\"O\",\"location\":[1.8416027666666666,-5.654640705226841,2.5024999999999977]},{\"element\":\"O\",\"location\":[-0.7115527833333322,-1.2324455730003798,2.5024999999999977]},{\"element\":\"O\",\"location\":[-7.625052783333333,1.897697420674132,2.5024999999999977]},{\"element\":\"O\",\"location\":[5.455980566666668,-5.654640705226841,2.5024999999999977]},{\"element\":\"O\",\"location\":[1.0907966666666673,-3.1399887210200808,-1.7875000000000028]},{\"element\":\"O\",\"location\":[6.206786666666668,-3.1399887210200808,-1.7875000000000028]},{\"element\":\"O\",\"location\":[3.6487916666666673,1.29058858448707,-1.7875000000000028]},{\"element\":\"O\",\"location\":[-0.70671333333333,3.80524056869383,-1.7875000000000028]},{\"element\":\"O\",\"location\":[-5.822703333333331,3.80524056869383,-1.7875000000000028]},{\"element\":\"O\",\"location\":[-3.264708333333332,-0.6253367368133205,-1.7875000000000028]},{\"element\":\"O\",\"location\":[3.6487916666666673,1.2905885844870708,2.5024999999999977]},{\"element\":\"O\",\"location\":[6.206786666666668,-3.1399887210200803,2.5024999999999977]},{\"element\":\"O\",\"location\":[1.0907966666666673,-3.1399887210200803,2.5024999999999977]},{\"element\":\"O\",\"location\":[-3.2647083333333318,-0.6253367368133196,2.5024999999999977]},{\"element\":\"O\",\"location\":[-5.822703333333331,3.80524056869383,2.5024999999999977]},{\"element\":\"O\",\"location\":[-0.7067133333333295,3.80524056869383,2.5024999999999977]},{\"element\":\"O\",\"location\":[1.8471335666666682,-0.622941830161694,-1.7875000000000028]},{\"element\":\"O\",\"location\":[3.6487916666666673,-3.7435051972297035,-1.7875000000000028]},{\"element\":\"O\",\"location\":[5.450449766666669,-0.622941830161694,-1.7875000000000028]},{\"element\":\"O\",\"location\":[-1.4630502333333315,1.2881936778354435,-1.7875000000000028]},{\"element\":\"O\",\"location\":[-3.264708333333331,4.408757044903454,-1.7875000000000028]},{\"element\":\"O\",\"location\":[-5.066366433333332,1.2881936778354435,-1.7875000000000028]},{\"element\":\"O\",\"location\":[1.8471335666666682,-0.6229418301616931,2.5024999999999977]},{\"element\":\"O\",\"location\":[5.450449766666669,-0.6229418301616931,2.5024999999999977]},{\"element\":\"O\",\"location\":[3.6487916666666673,-3.7435051972297035,2.5024999999999977]},{\"element\":\"O\",\"location\":[-1.4630502333333313,1.2881936778354444,2.5024999999999977]},{\"element\":\"O\",\"location\":[-5.066366433333332,1.2881936778354444,2.5024999999999977]},{\"element\":\"O\",\"location\":[-3.2647083333333304,4.408757044903454,2.5024999999999977]},{\"element\":\"Si\",\"location\":[0.7423562666666679,-1.662331316967156,-2.3246080000000027]},{\"element\":\"Si\",\"location\":[5.101318016666669,-4.180575661151354,-2.3246080000000027]},{\"element\":\"Si\",\"location\":[5.102700716666668,0.8535181205654183,-2.3246080000000027]},{\"element\":\"Si\",\"location\":[-0.3582729333333323,2.327583164640906,-2.3246080000000027]},{\"element\":\"Si\",\"location\":[-4.7172346833333325,4.845827508825104,-2.3246080000000027]},{\"element\":\"Si\",\"location\":[-4.718617383333332,-0.18826627289166886,-2.3246080000000027]},{\"element\":\"Si\",\"location\":[2.194882616666669,0.8535181205654192,1.9653919999999978]},{\"element\":\"Si\",\"location\":[6.555227066666667,-1.6623313169671556,1.9653919999999978]},{\"element\":\"Si\",\"location\":[2.196265316666666,-4.180575661151353,1.9653919999999978]},{\"element\":\"Si\",\"location\":[-1.8107992833333326,-0.18826627289166797,1.9653919999999978]},{\"element\":\"Si\",\"location\":[-6.171143733333332,2.327583164640907,1.9653919999999978]},{\"element\":\"Si\",\"location\":[-1.812181983333331,4.845827508825104,1.9653919999999978]},{\"element\":\"Si\",\"location\":[-0.3582729333333319,2.327583164640907,3.0396079999999968]},{\"element\":\"Si\",\"location\":[-4.717234683333332,4.845827508825104,3.0396079999999968]},{\"element\":\"Si\",\"location\":[-4.718617383333331,-0.18826627289166797,3.0396079999999968]},{\"element\":\"Si\",\"location\":[0.7423562666666679,-1.6623313169671552,3.0396079999999968]},{\"element\":\"Si\",\"location\":[5.101318016666669,-4.180575661151353,3.0396079999999968]},{\"element\":\"Si\",\"location\":[5.102700716666668,0.8535181205654192,3.0396079999999968]},{\"element\":\"Si\",\"location\":[-1.8107992833333328,-0.18826627289166886,-1.2503920000000028]},{\"element\":\"Si\",\"location\":[-6.1711437333333325,2.327583164640906,-1.2503920000000028]},{\"element\":\"Si\",\"location\":[-1.8121819833333312,4.845827508825104,-1.2503920000000028]},{\"element\":\"Si\",\"location\":[2.194882616666669,0.8535181205654183,-1.2503920000000028]},{\"element\":\"Si\",\"location\":[6.555227066666667,-1.6623313169671556,-1.2503920000000028]},{\"element\":\"Si\",\"location\":[2.196265316666666,-4.180575661151354,-1.2503920000000028]}],\"bonds\":[{\"atoms\":[1,49],\"order\":1},{\"atoms\":[0,48],\"order\":1},{\"atoms\":[5,53],\"order\":1},{\"atoms\":[4,52],\"order\":1},{\"atoms\":[3,51],\"order\":1},{\"atoms\":[2,50],\"order\":1},{\"atoms\":[53,29],\"order\":1},{\"atoms\":[53,41],\"order\":1},{\"atoms\":[53,17],\"order\":1},{\"atoms\":[52,28],\"order\":1},{\"atoms\":[52,40],\"order\":1},{\"atoms\":[51,27],\"order\":1},{\"atoms\":[51,39],\"order\":1},{\"atoms\":[51,15],\"order\":1},{\"atoms\":[50,26],\"order\":1},{\"atoms\":[50,38],\"order\":1},{\"atoms\":[49,25],\"order\":1},{\"atoms\":[49,37],\"order\":1},{\"atoms\":[49,13],\"order\":1},{\"atoms\":[48,36],\"order\":1},{\"atoms\":[48,24],\"order\":1},{\"atoms\":[48,12],\"order\":1},{\"atoms\":[36,69],\"order\":1},{\"atoms\":[25,70],\"order\":1},{\"atoms\":[26,69],\"order\":1},{\"atoms\":[27,68],\"order\":1},{\"atoms\":[28,67],\"order\":1},{\"atoms\":[24,71],\"order\":1},{\"atoms\":[29,66],\"order\":1},{\"atoms\":[37,71],\"order\":1},{\"atoms\":[38,70],\"order\":1},{\"atoms\":[39,66],\"order\":1},{\"atoms\":[40,68],\"order\":1},{\"atoms\":[41,67],\"order\":1},{\"atoms\":[12,66],\"order\":1},{\"atoms\":[14,67],\"order\":1},{\"atoms\":[15,69],\"order\":1},{\"atoms\":[16,71],\"order\":1},{\"atoms\":[71,8],\"order\":1},{\"atoms\":[66,9],\"order\":1},{\"atoms\":[67,10],\"order\":1},{\"atoms\":[68,11],\"order\":1},{\"atoms\":[69,6],\"order\":1},{\"atoms\":[70,7],\"order\":1},{\"atoms\":[6,54],\"order\":1},{\"atoms\":[7,55],\"order\":1},{\"atoms\":[8,56],\"order\":1},{\"atoms\":[9,57],\"order\":1},{\"atoms\":[10,58],\"order\":1},{\"atoms\":[11,59],\"order\":1},{\"atoms\":[59,47],\"order\":1},{\"atoms\":[59,35],\"order\":1},{\"atoms\":[58,22],\"order\":1},{\"atoms\":[58,46],\"order\":1},{\"atoms\":[58,34],\"order\":1},{\"atoms\":[57,21],\"order\":1},{\"atoms\":[57,45],\"order\":1},{\"atoms\":[57,33],\"order\":1},{\"atoms\":[56,20],\"order\":1},{\"atoms\":[56,32],\"order\":1},{\"atoms\":[56,44],\"order\":1},{\"atoms\":[55,43],\"order\":1},{\"atoms\":[55,31],\"order\":1},{\"atoms\":[54,42],\"order\":1},{\"atoms\":[54,18],\"order\":1},{\"atoms\":[54,30],\"order\":1},{\"atoms\":[42,63],\"order\":1},{\"atoms\":[21,63],\"order\":1},{\"atoms\":[19,62],\"order\":1},{\"atoms\":[18,60],\"order\":1},{\"atoms\":[30,65],\"order\":1},{\"atoms\":[32,63],\"order\":1},{\"atoms\":[43,65],\"order\":1},{\"atoms\":[44,64],\"order\":1},{\"atoms\":[45,60],\"order\":1},{\"atoms\":[46,62],\"order\":1},{\"atoms\":[47,61],\"order\":1},{\"atoms\":[23,64],\"order\":1},{\"atoms\":[35,60],\"order\":1},{\"atoms\":[34,61],\"order\":1},{\"atoms\":[33,62],\"order\":1},{\"atoms\":[31,64],\"order\":1}],\"density\":1.685612142804067,\"formula\":\"O2Si\",\"molecular_weight\":61.26022999999995,\"unitcell\":[[13.826999999999998,0.0,0.0],[-6.9134999999999955,11.974533258127433,0.0],[5.253734768342148e-16,9.099735548259698e-16,8.58]],\"units\":{\"density\":\"kg / L\",\"molecular_weight\":\"g / mol\"}});\n",
       "\n",
       "               $d.resizable({\n",
       "                   aspectRatio: 800 / 500,\n",
       "                   resize: function (evt, ui) {\n",
       "                       $d.imolecule.renderer.setSize(ui.size.width,\n",
       "                                                     ui.size.height);\n",
       "                   }\n",
       "               });\n",
       "           });\n",
       "           </script>"
      ],
      "text/plain": [
       "<IPython.core.display.HTML object>"
      ]
     },
     "metadata": {},
     "output_type": "display_data"
    }
   ],
   "source": [
    "afi_json = atoms_to_json(afi)\n",
    "imolecule.draw(afi_json, format='json', size=(800, 500))"
   ]
  },
  {
   "cell_type": "code",
   "execution_count": 18,
   "metadata": {
    "collapsed": true
   },
   "outputs": [],
   "source": [
    "from ase.build import cut\n",
    "afi_sc = cut(afi, a=(1, 0, 0), b=(0, 1, 0), c=(0, 0, 2), origo=(0.5, 0.5, 0.0))"
   ]
  },
  {
   "cell_type": "code",
   "execution_count": 19,
   "metadata": {},
   "outputs": [
    {
     "data": {
      "text/html": [
       "<div id=\"molecule_5df93a8c-c012-4f1a-92aa-09c9cb192d7e\"></div>\n",
       "           <script type=\"text/javascript\">\n",
       "           require.config({baseUrl: '/',\n",
       "                           paths: {imolecule: ['nbextensions/imolecule.min', 'https://rawgit.com/patrickfuller/imolecule/master/imolecule/js/build/imolecule.min']}});\n",
       "           require(['imolecule'], function () {\n",
       "               var $d = $('#molecule_5df93a8c-c012-4f1a-92aa-09c9cb192d7e');\n",
       "               $d.width(800); $d.height(500);\n",
       "               $d.imolecule = jQuery.extend({}, imolecule);\n",
       "               $d.imolecule.create($d, {drawingType: 'ball and stick',\n",
       "                                        cameraType: 'perspective',\n",
       "                                        shader: 'lambert',\n",
       "                                        showSave: false});\n",
       "               $d.imolecule.addElements({});\n",
       "               $d.imolecule.draw({\"atoms\":[{\"element\":\"O\",\"location\":[4.007755949999998,3.9911119349338637,-8.222500000000004]},{\"element\":\"O\",\"location\":[-5.460282300000001,1.4752624974012907,-8.222500000000004]},{\"element\":\"O\",\"location\":[1.4525263499999963,-5.466374432335183,-8.222500000000004]},{\"element\":\"O\",\"location\":[-4.0077559500000035,-3.9911119349338815,-8.222500000000004]},{\"element\":\"O\",\"location\":[5.460282299999996,-1.4752624974013084,-8.222500000000004]},{\"element\":\"O\",\"location\":[-1.4525263499999999,5.466374432335163,-8.222500000000004]},{\"element\":\"O\",\"location\":[-1.4525263500000016,-5.466374432335182,-3.9325000000000037]},{\"element\":\"O\",\"location\":[-4.007755950000001,3.9911119349338637,-3.9325000000000037]},{\"element\":\"O\",\"location\":[5.460282299999999,1.4752624974012916,-3.9325000000000037]},{\"element\":\"O\",\"location\":[1.452526349999999,5.466374432335163,-3.9325000000000037]},{\"element\":\"O\",\"location\":[4.007755949999998,-3.991111934933881,-3.9325000000000037]},{\"element\":\"O\",\"location\":[-5.460282300000003,-1.4752624974013075,-3.9325000000000037]},{\"element\":\"O\",\"location\":[2.553155549999999,4.422195132226452,-6.077500000000004]},{\"element\":\"O\",\"location\":[-5.106311100000001,-8.881784197001252e-15,-6.077500000000004]},{\"element\":\"O\",\"location\":[2.5531555499999965,-4.422195132226469,-6.077500000000004]},{\"element\":\"O\",\"location\":[-2.5531555500000027,-4.422195132226469,-6.077500000000004]},{\"element\":\"O\",\"location\":[5.106311099999999,-8.881784197001252e-15,-6.077500000000004]},{\"element\":\"O\",\"location\":[-2.553155550000001,4.422195132226452,-6.077500000000004]},{\"element\":\"O\",\"location\":[-2.5531555500000023,-4.422195132226469,-1.7875000000000032]},{\"element\":\"O\",\"location\":[-2.5531555500000005,4.422195132226452,-1.7875000000000032]},{\"element\":\"O\",\"location\":[5.106311099999999,-7.993605777301127e-15,-1.7875000000000032]},{\"element\":\"O\",\"location\":[2.553155549999999,4.422195132226452,-1.7875000000000032]},{\"element\":\"O\",\"location\":[2.5531555499999965,-4.422195132226469,-1.7875000000000032]},{\"element\":\"O\",\"location\":[-5.106311100000001,-7.993605777301127e-15,-1.7875000000000032]},{\"element\":\"O\",\"location\":[4.355504999999997,2.5146519842067523,-6.077500000000004]},{\"element\":\"O\",\"location\":[-4.355505,2.5146519842067523,-6.077500000000004]},{\"element\":\"O\",\"location\":[-3.1086244689504383e-15,-5.0293039684135294,-6.077500000000004]},{\"element\":\"O\",\"location\":[-4.355505000000001,-2.514651984206769,-6.077500000000004]},{\"element\":\"O\",\"location\":[4.3555049999999955,-2.514651984206769,-6.077500000000004]},{\"element\":\"O\",\"location\":[-1.3322676295501878e-15,5.029303968413512,-6.077500000000004]},{\"element\":\"O\",\"location\":[-2.6645352591003757e-15,-5.0293039684135294,-1.7875000000000032]},{\"element\":\"O\",\"location\":[-4.355505,2.5146519842067523,-1.7875000000000032]},{\"element\":\"O\",\"location\":[4.355504999999997,2.5146519842067523,-1.7875000000000032]},{\"element\":\"O\",\"location\":[-8.881784197001252e-16,5.029303968413512,-1.7875000000000032]},{\"element\":\"O\",\"location\":[4.3555049999999955,-2.5146519842067687,-1.7875000000000032]},{\"element\":\"O\",\"location\":[-4.355505,-2.5146519842067687,-1.7875000000000032]},{\"element\":\"O\",\"location\":[-8.7151581,5.031698875065139,-6.077500000000004]},{\"element\":\"O\",\"location\":[-6.913500000000001,1.9111355079971286,-6.077500000000004]},{\"element\":\"O\",\"location\":[-5.1118419,5.031698875065139,-6.077500000000004]},{\"element\":\"O\",\"location\":[8.715158099999998,-5.031698875065157,-6.077500000000004]},{\"element\":\"O\",\"location\":[6.913499999999997,-1.9111355079971464,-6.077500000000004]},{\"element\":\"O\",\"location\":[5.111841899999998,-5.031698875065157,-6.077500000000004]},{\"element\":\"O\",\"location\":[-8.7151581,5.031698875065139,-1.7875000000000032]},{\"element\":\"O\",\"location\":[-5.1118419,5.031698875065139,-1.7875000000000032]},{\"element\":\"O\",\"location\":[-6.9135,1.9111355079971295,-1.7875000000000032]},{\"element\":\"O\",\"location\":[8.715158099999998,-5.031698875065156,-1.7875000000000032]},{\"element\":\"O\",\"location\":[5.111841899999998,-5.031698875065156,-1.7875000000000032]},{\"element\":\"O\",\"location\":[6.913499999999997,-1.9111355079971455,-1.7875000000000032]},{\"element\":\"Si\",\"location\":[4.007064600000001,3.9923093882596756,-6.614608000000004]},{\"element\":\"Si\",\"location\":[-5.460973650000001,1.474065044075478,-6.614608000000004]},{\"element\":\"Si\",\"location\":[1.453909049999997,-5.466374432335182,-6.614608000000004]},{\"element\":\"Si\",\"location\":[-4.007064600000003,-3.9923093882596943,-6.614608000000004]},{\"element\":\"Si\",\"location\":[5.460973649999998,-1.4740650440754974,-6.614608000000004]},{\"element\":\"Si\",\"location\":[-1.4539090500000005,5.466374432335163,-6.614608000000004]},{\"element\":\"Si\",\"location\":[-1.4539090500000018,-5.466374432335182,-2.324608000000003]},{\"element\":\"Si\",\"location\":[-4.0070646,3.9923093882596756,-2.324608000000003]},{\"element\":\"Si\",\"location\":[5.46097365,1.4740650440754788,-2.324608000000003]},{\"element\":\"Si\",\"location\":[1.4539090499999996,5.466374432335163,-2.324608000000003]},{\"element\":\"Si\",\"location\":[4.007064599999996,-3.9923093882596934,-2.324608000000003]},{\"element\":\"Si\",\"location\":[-5.4609736500000015,-1.4740650440754965,-2.324608000000003]},{\"element\":\"Si\",\"location\":[-4.007064600000003,-3.9923093882596934,-1.2503920000000042]},{\"element\":\"Si\",\"location\":[5.460973649999998,-1.4740650440754965,-1.2503920000000042]},{\"element\":\"Si\",\"location\":[-1.45390905,5.466374432335163,-1.2503920000000042]},{\"element\":\"Si\",\"location\":[4.007064600000001,3.9923093882596756,-1.2503920000000042]},{\"element\":\"Si\",\"location\":[-5.46097365,1.4740650440754788,-1.2503920000000042]},{\"element\":\"Si\",\"location\":[1.453909049999997,-5.466374432335182,-1.2503920000000042]},{\"element\":\"Si\",\"location\":[1.4539090499999996,5.466374432335163,-5.540392000000004]},{\"element\":\"Si\",\"location\":[4.007064599999996,-3.9923093882596943,-5.540392000000004]},{\"element\":\"Si\",\"location\":[-5.460973650000002,-1.4740650440754974,-5.540392000000004]},{\"element\":\"Si\",\"location\":[-1.4539090500000023,-5.466374432335182,-5.540392000000004]},{\"element\":\"Si\",\"location\":[-4.0070646,3.9923093882596756,-5.540392000000004]},{\"element\":\"Si\",\"location\":[5.46097365,1.474065044075478,-5.540392000000004]},{\"element\":\"O\",\"location\":[4.00775595,3.9911119349338655,0.3574999999999964]},{\"element\":\"O\",\"location\":[-5.4602823,1.4752624974012916,0.3574999999999964]},{\"element\":\"O\",\"location\":[1.4525263499999972,-5.466374432335181,0.3574999999999964]},{\"element\":\"O\",\"location\":[-4.0077559500000035,-3.9911119349338806,0.3574999999999964]},{\"element\":\"O\",\"location\":[5.460282299999996,-1.4752624974013075,0.3574999999999964]},{\"element\":\"O\",\"location\":[-1.4525263499999994,5.466374432335165,0.3574999999999964]},{\"element\":\"O\",\"location\":[-1.4525263500000012,-5.466374432335181,4.647499999999997]},{\"element\":\"O\",\"location\":[-4.007755950000001,3.9911119349338655,4.647499999999997]},{\"element\":\"O\",\"location\":[5.460282299999999,1.4752624974012924,4.647499999999997]},{\"element\":\"O\",\"location\":[1.4525263499999999,5.466374432335165,4.647499999999997]},{\"element\":\"O\",\"location\":[4.007755949999998,-3.99111193493388,4.647499999999997]},{\"element\":\"O\",\"location\":[-5.460282300000002,-1.4752624974013067,4.647499999999997]},{\"element\":\"O\",\"location\":[2.55315555,4.422195132226454,2.502499999999996]},{\"element\":\"O\",\"location\":[-5.106311100000001,-7.993605777301127e-15,2.502499999999996]},{\"element\":\"O\",\"location\":[2.5531555499999974,-4.422195132226468,2.502499999999996]},{\"element\":\"O\",\"location\":[-2.5531555500000023,-4.422195132226468,2.502499999999996]},{\"element\":\"O\",\"location\":[5.106311099999999,-7.993605777301127e-15,2.502499999999996]},{\"element\":\"O\",\"location\":[-2.5531555500000005,4.422195132226454,2.502499999999996]},{\"element\":\"O\",\"location\":[-2.553155550000002,-4.422195132226468,6.792499999999997]},{\"element\":\"O\",\"location\":[-2.55315555,4.422195132226454,6.792499999999997]},{\"element\":\"O\",\"location\":[5.106311099999999,-7.105427357601002e-15,6.792499999999997]},{\"element\":\"O\",\"location\":[2.55315555,4.422195132226454,6.792499999999997]},{\"element\":\"O\",\"location\":[2.5531555499999974,-4.422195132226468,6.792499999999997]},{\"element\":\"O\",\"location\":[-5.106311100000001,-7.105427357601002e-15,6.792499999999997]},{\"element\":\"O\",\"location\":[4.355504999999999,2.514651984206754,2.502499999999996]},{\"element\":\"O\",\"location\":[-4.355505,2.514651984206754,2.502499999999996]},{\"element\":\"O\",\"location\":[-2.6645352591003757e-15,-5.029303968413529,2.502499999999996]},{\"element\":\"O\",\"location\":[-4.355505,-2.5146519842067683,2.502499999999996]},{\"element\":\"O\",\"location\":[4.355504999999997,-2.5146519842067683,2.502499999999996]},{\"element\":\"O\",\"location\":[-8.881784197001252e-16,5.0293039684135135,2.502499999999996]},{\"element\":\"O\",\"location\":[-2.220446049250313e-15,-5.029303968413529,6.792499999999997]},{\"element\":\"O\",\"location\":[-4.355504999999999,2.514651984206754,6.792499999999997]},{\"element\":\"O\",\"location\":[4.355504999999999,2.514651984206754,6.792499999999997]},{\"element\":\"O\",\"location\":[-4.440892098500626e-16,5.0293039684135135,6.792499999999997]},{\"element\":\"O\",\"location\":[4.355504999999997,-2.514651984206768,6.792499999999997]},{\"element\":\"O\",\"location\":[-4.355505,-2.514651984206768,6.792499999999997]},{\"element\":\"O\",\"location\":[-8.715158099999998,5.031698875065141,2.502499999999996]},{\"element\":\"O\",\"location\":[-6.9135,1.9111355079971295,2.502499999999996]},{\"element\":\"O\",\"location\":[-5.1118419,5.031698875065141,2.502499999999996]},{\"element\":\"O\",\"location\":[8.715158099999998,-5.031698875065155,2.502499999999996]},{\"element\":\"O\",\"location\":[6.913499999999997,-1.9111355079971455,2.502499999999996]},{\"element\":\"O\",\"location\":[5.111841899999998,-5.031698875065155,2.502499999999996]},{\"element\":\"O\",\"location\":[-8.715158099999998,5.031698875065141,6.792499999999997]},{\"element\":\"O\",\"location\":[-5.1118419,5.031698875065141,6.792499999999997]},{\"element\":\"O\",\"location\":[-6.913499999999999,1.9111355079971304,6.792499999999997]},{\"element\":\"O\",\"location\":[8.715158099999998,-5.031698875065155,6.792499999999997]},{\"element\":\"O\",\"location\":[5.111841899999998,-5.031698875065155,6.792499999999997]},{\"element\":\"O\",\"location\":[6.913499999999997,-1.9111355079971446,6.792499999999997]},{\"element\":\"Si\",\"location\":[4.007064600000001,3.9923093882596774,1.965391999999996]},{\"element\":\"Si\",\"location\":[-5.46097365,1.4740650440754788,1.965391999999996]},{\"element\":\"Si\",\"location\":[1.4539090499999978,-5.466374432335181,1.965391999999996]},{\"element\":\"Si\",\"location\":[-4.007064600000003,-3.9923093882596934,1.965391999999996]},{\"element\":\"Si\",\"location\":[5.460973649999998,-1.4740650440754965,1.965391999999996]},{\"element\":\"Si\",\"location\":[-1.45390905,5.466374432335165,1.965391999999996]},{\"element\":\"Si\",\"location\":[-1.4539090500000014,-5.466374432335181,6.255391999999997]},{\"element\":\"Si\",\"location\":[-4.0070646,3.9923093882596774,6.255391999999997]},{\"element\":\"Si\",\"location\":[5.46097365,1.4740650440754797,6.255391999999997]},{\"element\":\"Si\",\"location\":[1.4539090500000005,5.466374432335165,6.255391999999997]},{\"element\":\"Si\",\"location\":[4.007064599999996,-3.9923093882596925,6.255391999999997]},{\"element\":\"Si\",\"location\":[-5.4609736500000015,-1.4740650440754957,6.255391999999997]},{\"element\":\"Si\",\"location\":[-4.007064600000003,-3.9923093882596925,7.329607999999997]},{\"element\":\"Si\",\"location\":[5.460973649999998,-1.4740650440754957,7.329607999999997]},{\"element\":\"Si\",\"location\":[-1.4539090499999996,5.466374432335165,7.329607999999997]},{\"element\":\"Si\",\"location\":[4.007064600000001,3.9923093882596774,7.329607999999997]},{\"element\":\"Si\",\"location\":[-5.46097365,1.4740650440754797,7.329607999999997]},{\"element\":\"Si\",\"location\":[1.4539090499999978,-5.466374432335181,7.329607999999997]},{\"element\":\"Si\",\"location\":[1.4539090500000005,5.466374432335165,3.039607999999996]},{\"element\":\"Si\",\"location\":[4.007064599999996,-3.9923093882596934,3.039607999999996]},{\"element\":\"Si\",\"location\":[-5.4609736500000015,-1.4740650440754965,3.039607999999996]},{\"element\":\"Si\",\"location\":[-1.4539090500000018,-5.466374432335181,3.039607999999996]},{\"element\":\"Si\",\"location\":[-4.0070646,3.9923093882596774,3.039607999999996]},{\"element\":\"Si\",\"location\":[5.46097365,1.4740650440754788,3.039607999999996]}],\"bonds\":[{\"atoms\":[1,49],\"order\":1},{\"atoms\":[2,50],\"order\":1},{\"atoms\":[3,51],\"order\":1},{\"atoms\":[4,52],\"order\":1},{\"atoms\":[5,53],\"order\":1},{\"atoms\":[0,48],\"order\":1},{\"atoms\":[48,24],\"order\":1},{\"atoms\":[48,12],\"order\":1},{\"atoms\":[49,37],\"order\":1},{\"atoms\":[49,25],\"order\":1},{\"atoms\":[49,13],\"order\":1},{\"atoms\":[50,26],\"order\":1},{\"atoms\":[50,14],\"order\":1},{\"atoms\":[51,27],\"order\":1},{\"atoms\":[51,15],\"order\":1},{\"atoms\":[52,40],\"order\":1},{\"atoms\":[52,28],\"order\":1},{\"atoms\":[52,16],\"order\":1},{\"atoms\":[53,29],\"order\":1},{\"atoms\":[53,17],\"order\":1},{\"atoms\":[41,67],\"order\":1},{\"atoms\":[38,70],\"order\":1},{\"atoms\":[29,66],\"order\":1},{\"atoms\":[28,67],\"order\":1},{\"atoms\":[27,68],\"order\":1},{\"atoms\":[26,69],\"order\":1},{\"atoms\":[25,70],\"order\":1},{\"atoms\":[24,71],\"order\":1},{\"atoms\":[17,70],\"order\":1},{\"atoms\":[12,66],\"order\":1},{\"atoms\":[13,68],\"order\":1},{\"atoms\":[14,67],\"order\":1},{\"atoms\":[15,69],\"order\":1},{\"atoms\":[16,71],\"order\":1},{\"atoms\":[66,9],\"order\":1},{\"atoms\":[71,8],\"order\":1},{\"atoms\":[70,7],\"order\":1},{\"atoms\":[69,6],\"order\":1},{\"atoms\":[68,11],\"order\":1},{\"atoms\":[67,10],\"order\":1},{\"atoms\":[7,55],\"order\":1},{\"atoms\":[8,56],\"order\":1},{\"atoms\":[9,57],\"order\":1},{\"atoms\":[10,58],\"order\":1},{\"atoms\":[11,59],\"order\":1},{\"atoms\":[6,54],\"order\":1},{\"atoms\":[56,20],\"order\":1},{\"atoms\":[56,32],\"order\":1},{\"atoms\":[55,31],\"order\":1},{\"atoms\":[55,19],\"order\":1},{\"atoms\":[55,43],\"order\":1},{\"atoms\":[57,33],\"order\":1},{\"atoms\":[57,21],\"order\":1},{\"atoms\":[58,22],\"order\":1},{\"atoms\":[58,34],\"order\":1},{\"atoms\":[58,46],\"order\":1},{\"atoms\":[59,35],\"order\":1},{\"atoms\":[59,23],\"order\":1},{\"atoms\":[54,30],\"order\":1},{\"atoms\":[54,18],\"order\":1},{\"atoms\":[22,65],\"order\":1},{\"atoms\":[33,62],\"order\":1},{\"atoms\":[31,64],\"order\":1},{\"atoms\":[30,65],\"order\":1},{\"atoms\":[18,60],\"order\":1},{\"atoms\":[19,62],\"order\":1},{\"atoms\":[47,61],\"order\":1},{\"atoms\":[20,61],\"order\":1},{\"atoms\":[21,63],\"order\":1},{\"atoms\":[32,63],\"order\":1},{\"atoms\":[34,61],\"order\":1},{\"atoms\":[35,60],\"order\":1},{\"atoms\":[23,64],\"order\":1},{\"atoms\":[44,64],\"order\":1},{\"atoms\":[62,77],\"order\":1},{\"atoms\":[65,74],\"order\":1},{\"atoms\":[64,73],\"order\":1},{\"atoms\":[63,72],\"order\":1},{\"atoms\":[61,76],\"order\":1},{\"atoms\":[60,75],\"order\":1},{\"atoms\":[72,120],\"order\":1},{\"atoms\":[77,125],\"order\":1},{\"atoms\":[76,124],\"order\":1},{\"atoms\":[74,122],\"order\":1},{\"atoms\":[73,121],\"order\":1},{\"atoms\":[75,123],\"order\":1},{\"atoms\":[125,101],\"order\":1},{\"atoms\":[125,89],\"order\":1},{\"atoms\":[124,100],\"order\":1},{\"atoms\":[124,112],\"order\":1},{\"atoms\":[124,88],\"order\":1},{\"atoms\":[123,99],\"order\":1},{\"atoms\":[123,87],\"order\":1},{\"atoms\":[122,98],\"order\":1},{\"atoms\":[122,86],\"order\":1},{\"atoms\":[121,109],\"order\":1},{\"atoms\":[121,97],\"order\":1},{\"atoms\":[121,85],\"order\":1},{\"atoms\":[120,96],\"order\":1},{\"atoms\":[120,84],\"order\":1},{\"atoms\":[96,143],\"order\":1},{\"atoms\":[97,142],\"order\":1},{\"atoms\":[98,141],\"order\":1},{\"atoms\":[99,140],\"order\":1},{\"atoms\":[100,139],\"order\":1},{\"atoms\":[101,138],\"order\":1},{\"atoms\":[110,142],\"order\":1},{\"atoms\":[113,139],\"order\":1},{\"atoms\":[84,138],\"order\":1},{\"atoms\":[85,140],\"order\":1},{\"atoms\":[86,139],\"order\":1},{\"atoms\":[87,141],\"order\":1},{\"atoms\":[88,143],\"order\":1},{\"atoms\":[89,142],\"order\":1},{\"atoms\":[143,80],\"order\":1},{\"atoms\":[138,81],\"order\":1},{\"atoms\":[139,82],\"order\":1},{\"atoms\":[140,83],\"order\":1},{\"atoms\":[141,78],\"order\":1},{\"atoms\":[142,79],\"order\":1},{\"atoms\":[78,126],\"order\":1},{\"atoms\":[79,127],\"order\":1},{\"atoms\":[80,128],\"order\":1},{\"atoms\":[81,129],\"order\":1},{\"atoms\":[82,130],\"order\":1},{\"atoms\":[83,131],\"order\":1},{\"atoms\":[131,95],\"order\":1},{\"atoms\":[131,107],\"order\":1},{\"atoms\":[130,94],\"order\":1},{\"atoms\":[130,118],\"order\":1},{\"atoms\":[130,106],\"order\":1},{\"atoms\":[129,93],\"order\":1},{\"atoms\":[129,105],\"order\":1},{\"atoms\":[128,92],\"order\":1},{\"atoms\":[128,104],\"order\":1},{\"atoms\":[127,91],\"order\":1},{\"atoms\":[127,115],\"order\":1},{\"atoms\":[127,103],\"order\":1},{\"atoms\":[126,90],\"order\":1},{\"atoms\":[126,102],\"order\":1},{\"atoms\":[94,137],\"order\":1},{\"atoms\":[93,135],\"order\":1},{\"atoms\":[92,133],\"order\":1},{\"atoms\":[91,134],\"order\":1},{\"atoms\":[90,132],\"order\":1},{\"atoms\":[102,137],\"order\":1},{\"atoms\":[104,135],\"order\":1},{\"atoms\":[116,136],\"order\":1},{\"atoms\":[119,133],\"order\":1},{\"atoms\":[95,136],\"order\":1},{\"atoms\":[107,132],\"order\":1},{\"atoms\":[106,133],\"order\":1},{\"atoms\":[105,134],\"order\":1},{\"atoms\":[103,136],\"order\":1}],\"density\":1.6856121428040687,\"formula\":\"O2Si\",\"molecular_weight\":61.680204999999994,\"unitcell\":[[13.826999999999998,0.0,0.0],[-6.9134999999999955,11.974533258127433,0.0],[1.0507469536684295e-15,1.8199471096519396e-15,17.16]],\"units\":{\"density\":\"kg / L\",\"molecular_weight\":\"g / mol\"}});\n",
       "\n",
       "               $d.resizable({\n",
       "                   aspectRatio: 800 / 500,\n",
       "                   resize: function (evt, ui) {\n",
       "                       $d.imolecule.renderer.setSize(ui.size.width,\n",
       "                                                     ui.size.height);\n",
       "                   }\n",
       "               });\n",
       "           });\n",
       "           </script>"
      ],
      "text/plain": [
       "<IPython.core.display.HTML object>"
      ]
     },
     "metadata": {},
     "output_type": "display_data"
    }
   ],
   "source": [
    "afi_sc_json = atoms_to_json(afi_sc)\n",
    "imolecule.draw(afi_sc_json, format='json', size=(800, 500))"
   ]
  },
  {
   "cell_type": "markdown",
   "metadata": {},
   "source": [
    "## MOF"
   ]
  },
  {
   "cell_type": "code",
   "execution_count": 17,
   "metadata": {
    "collapsed": true
   },
   "outputs": [],
   "source": [
    "def from_url(url, fmt=None):\n",
    "\n",
    "    if fmt.lower() == 'json':\n",
    "        import json\n",
    "\n",
    "        with urllib.request.urlopen(url) as response:\n",
    "            contents = response.read()\n",
    "        atoms = json.loads(contents)"
   ]
  },
  {
   "cell_type": "code",
   "execution_count": 21,
   "metadata": {
    "collapsed": true
   },
   "outputs": [],
   "source": [
    "# read the UiO-66 structure in the json format from imolecule repo\n",
    "import urllib\n",
    "import json\n",
    "\n",
    "url ='https://raw.githubusercontent.com/patrickfuller/imolecule/master/examples/data/uio_66.json'\n",
    "with urllib.request.urlopen(url) as response:\n",
    "    uiostr = response.read()\n",
    "uio66 = json.loads(uiostr)"
   ]
  },
  {
   "cell_type": "code",
   "execution_count": 22,
   "metadata": {},
   "outputs": [
    {
     "data": {
      "text/html": [
       "<div id=\"molecule_7b0d35be-4406-4e7a-bdac-2c7f76d1b38e\"></div>\n",
       "           <script type=\"text/javascript\">\n",
       "           require.config({baseUrl: '/',\n",
       "                           paths: {imolecule: ['nbextensions/imolecule.min', 'https://rawgit.com/patrickfuller/imolecule/master/imolecule/js/build/imolecule.min']}});\n",
       "           require(['imolecule'], function () {\n",
       "               var $d = $('#molecule_7b0d35be-4406-4e7a-bdac-2c7f76d1b38e');\n",
       "               $d.width(800); $d.height(800);\n",
       "               $d.imolecule = jQuery.extend({}, imolecule);\n",
       "               $d.imolecule.create($d, {drawingType: 'ball and stick',\n",
       "                                        cameraType: 'perspective',\n",
       "                                        shader: 'lambert',\n",
       "                                        showSave: false});\n",
       "               $d.imolecule.addElements({});\n",
       "               $d.imolecule.draw({\"atoms\":[{\"element\":\"H\",\"label\":\"H1\",\"location\":[0.04871005263157887,-4.431226947368421,-2.6596009473684212]},{\"element\":\"C\",\"label\":\"C2\",\"location\":[0.04766105263157887,-4.6945059473684205,-3.7106189473684212]},{\"element\":\"O\",\"label\":\"O3\",\"location\":[0.12947705263157888,-6.723116947368421,-1.7994869473684212]},{\"element\":\"H\",\"label\":\"H4\",\"location\":[0.04871005263157887,6.057973052631579,7.829599052631579]},{\"element\":\"C\",\"label\":\"C5\",\"location\":[0.04766105263157887,5.794694052631579,6.778581052631579]},{\"element\":\"O\",\"label\":\"O6\",\"location\":[0.12947705263157888,3.766083052631579,8.689713052631578]},{\"element\":\"H\",\"label\":\"H7\",\"location\":[10.53791005263158,-4.431226947368421,7.829599052631579]},{\"element\":\"C\",\"label\":\"C8\",\"location\":[10.53686105263158,-4.6945059473684205,6.778581052631579]},{\"element\":\"O\",\"label\":\"O9\",\"location\":[10.618677052631579,-6.723116947368421,8.689713052631578]},{\"element\":\"H\",\"label\":\"H10\",\"location\":[10.53791005263158,6.057973052631579,-2.6596009473684212]},{\"element\":\"C\",\"label\":\"C11\",\"location\":[10.53686105263158,5.794694052631579,-3.7106189473684212]},{\"element\":\"O\",\"label\":\"O12\",\"location\":[10.618677052631579,3.766083052631579,-1.7994869473684212]},{\"element\":\"H\",\"label\":\"H13\",\"location\":[0.3193320526315789,4.799269052631579,-2.6596009473684212]},{\"element\":\"C\",\"label\":\"C14\",\"location\":[0.3203810526315789,5.062548052631579,-3.7106189473684212]},{\"element\":\"O\",\"label\":\"O15\",\"location\":[0.23856505263157887,7.091159052631579,-1.7994869473684212]},{\"element\":\"H\",\"label\":\"H16\",\"location\":[0.3193320526315789,-5.6899309473684205,7.829599052631579]},{\"element\":\"C\",\"label\":\"C17\",\"location\":[0.3203810526315789,-5.426651947368421,6.778581052631579]},{\"element\":\"O\",\"label\":\"O18\",\"location\":[0.23856505263157887,-3.398040947368421,8.689713052631578]},{\"element\":\"H\",\"label\":\"H19\",\"location\":[-10.16986794736842,4.799269052631579,7.829599052631579]},{\"element\":\"C\",\"label\":\"C20\",\"location\":[-10.16881894736842,5.062548052631579,6.778581052631579]},{\"element\":\"O\",\"label\":\"O21\",\"location\":[-10.250634947368422,7.091159052631579,8.689713052631578]},{\"element\":\"H\",\"label\":\"H22\",\"location\":[-10.16986794736842,-5.6899309473684205,-2.6596009473684212]},{\"element\":\"C\",\"label\":\"C23\",\"location\":[-10.16881894736842,-5.426651947368421,-3.7106189473684212]},{\"element\":\"O\",\"label\":\"O24\",\"location\":[-10.250634947368422,-3.398040947368421,-1.7994869473684212]},{\"element\":\"H\",\"label\":\"H25\",\"location\":[0.3193320526315789,-4.431226947368421,3.0276430526315785]},{\"element\":\"C\",\"label\":\"C26\",\"location\":[0.3203810526315789,-4.6945059473684205,4.078661052631579]},{\"element\":\"O\",\"label\":\"O27\",\"location\":[0.23856505263157887,-6.723116947368421,2.1675290526315787]},{\"element\":\"H\",\"label\":\"H28\",\"location\":[0.3193320526315789,6.057973052631579,-7.461556947368421]},{\"element\":\"C\",\"label\":\"C29\",\"location\":[0.3203810526315789,5.794694052631579,-6.410538947368421]},{\"element\":\"O\",\"label\":\"O30\",\"location\":[0.23856505263157887,3.766083052631579,-8.321670947368421]},{\"element\":\"H\",\"label\":\"H31\",\"location\":[-10.16986794736842,-4.431226947368421,-7.461556947368421]},{\"element\":\"C\",\"label\":\"C32\",\"location\":[-10.16881894736842,-4.6945059473684205,-6.410538947368421]},{\"element\":\"O\",\"label\":\"O33\",\"location\":[-10.250634947368422,-6.723116947368421,-8.321670947368421]},{\"element\":\"H\",\"label\":\"H34\",\"location\":[-10.16986794736842,6.057973052631579,3.0276430526315785]},{\"element\":\"C\",\"label\":\"C35\",\"location\":[-10.16881894736842,5.794694052631579,4.078661052631579]},{\"element\":\"O\",\"label\":\"O36\",\"location\":[-10.250634947368422,3.766083052631579,2.1675290526315787]},{\"element\":\"H\",\"label\":\"H37\",\"location\":[0.04871005263157887,4.799269052631579,3.0276430526315785]},{\"element\":\"C\",\"label\":\"C38\",\"location\":[0.04766105263157887,5.062548052631579,4.078661052631579]},{\"element\":\"O\",\"label\":\"O39\",\"location\":[0.12947705263157888,7.091159052631579,2.1675290526315787]},{\"element\":\"H\",\"label\":\"H40\",\"location\":[0.04871005263157887,-5.6899309473684205,-7.461556947368421]},{\"element\":\"C\",\"label\":\"C41\",\"location\":[0.04766105263157887,-5.426651947368421,-6.410538947368421]},{\"element\":\"O\",\"label\":\"O42\",\"location\":[0.12947705263157888,-3.398040947368421,-8.321670947368421]},{\"element\":\"H\",\"label\":\"H43\",\"location\":[10.53791005263158,4.799269052631579,-7.461556947368421]},{\"element\":\"C\",\"label\":\"C44\",\"location\":[10.53686105263158,5.062548052631579,-6.410538947368421]},{\"element\":\"O\",\"label\":\"O45\",\"location\":[10.618677052631579,7.091159052631579,-8.321670947368421]},{\"element\":\"H\",\"label\":\"H46\",\"location\":[10.53791005263158,-5.6899309473684205,3.0276430526315785]},{\"element\":\"C\",\"label\":\"C47\",\"location\":[10.53686105263158,-5.426651947368421,4.078661052631579]},{\"element\":\"O\",\"label\":\"O48\",\"location\":[10.618677052631579,-3.398040947368421,2.1675290526315787]},{\"element\":\"H\",\"label\":\"H49\",\"location\":[-2.6596009473684212,0.0487100526315789,-4.431226947368421]},{\"element\":\"C\",\"label\":\"C50\",\"location\":[-3.7106189473684212,0.047661052631578896,-4.6945059473684205]},{\"element\":\"O\",\"label\":\"O51\",\"location\":[-1.7994869473684212,0.1294770526315789,-6.723116947368421]},{\"element\":\"H\",\"label\":\"H52\",\"location\":[-2.6596009473684212,10.53791005263158,6.057973052631579]},{\"element\":\"C\",\"label\":\"C53\",\"location\":[-3.7106189473684212,10.53686105263158,5.794694052631579]},{\"element\":\"O\",\"label\":\"O54\",\"location\":[-1.7994869473684212,10.618677052631579,3.7660830526315787]},{\"element\":\"H\",\"label\":\"H55\",\"location\":[7.829599052631579,0.0487100526315789,6.057973052631579]},{\"element\":\"C\",\"label\":\"C56\",\"location\":[6.778581052631579,0.047661052631578896,5.794694052631579]},{\"element\":\"O\",\"label\":\"O57\",\"location\":[8.689713052631578,0.1294770526315789,3.7660830526315787]},{\"element\":\"H\",\"label\":\"H58\",\"location\":[7.829599052631579,10.53791005263158,-4.431226947368421]},{\"element\":\"C\",\"label\":\"C59\",\"location\":[6.778581052631579,10.53686105263158,-4.6945059473684205]},{\"element\":\"O\",\"label\":\"O60\",\"location\":[8.689713052631578,10.618677052631579,-6.723116947368421]},{\"element\":\"H\",\"label\":\"H61\",\"location\":[-2.6596009473684212,0.3193320526315789,4.799269052631579]},{\"element\":\"C\",\"label\":\"C62\",\"location\":[-3.7106189473684212,0.3203810526315789,5.062548052631579]},{\"element\":\"O\",\"label\":\"O63\",\"location\":[-1.7994869473684212,0.2385650526315789,7.091159052631579]},{\"element\":\"H\",\"label\":\"H64\",\"location\":[-2.6596009473684212,-10.16986794736842,-5.6899309473684205]},{\"element\":\"C\",\"label\":\"C65\",\"location\":[-3.7106189473684212,-10.16881894736842,-5.426651947368421]},{\"element\":\"O\",\"label\":\"O66\",\"location\":[-1.7994869473684212,-10.250634947368422,-3.3980409473684214]},{\"element\":\"H\",\"label\":\"H67\",\"location\":[7.829599052631579,0.3193320526315789,-5.6899309473684205]},{\"element\":\"C\",\"label\":\"C68\",\"location\":[6.778581052631579,0.3203810526315789,-5.426651947368421]},{\"element\":\"O\",\"label\":\"O69\",\"location\":[8.689713052631578,0.2385650526315789,-3.3980409473684214]},{\"element\":\"H\",\"label\":\"H70\",\"location\":[7.829599052631579,-10.16986794736842,4.799269052631579]},{\"element\":\"C\",\"label\":\"C71\",\"location\":[6.778581052631579,-10.16881894736842,5.062548052631579]},{\"element\":\"O\",\"label\":\"O72\",\"location\":[8.689713052631578,-10.250634947368422,7.091159052631579]},{\"element\":\"H\",\"label\":\"H73\",\"location\":[3.0276430526315785,0.3193320526315789,-4.431226947368421]},{\"element\":\"C\",\"label\":\"C74\",\"location\":[4.078661052631579,0.3203810526315789,-4.6945059473684205]},{\"element\":\"O\",\"label\":\"O75\",\"location\":[2.1675290526315787,0.2385650526315789,-6.723116947368421]},{\"element\":\"H\",\"label\":\"H76\",\"location\":[3.0276430526315785,-10.16986794736842,6.057973052631579]},{\"element\":\"C\",\"label\":\"C77\",\"location\":[4.078661052631579,-10.16881894736842,5.794694052631579]},{\"element\":\"O\",\"label\":\"O78\",\"location\":[2.1675290526315787,-10.250634947368422,3.7660830526315787]},{\"element\":\"H\",\"label\":\"H79\",\"location\":[-7.461556947368421,0.3193320526315789,6.057973052631579]},{\"element\":\"C\",\"label\":\"C80\",\"location\":[-6.410538947368421,0.3203810526315789,5.794694052631579]},{\"element\":\"O\",\"label\":\"O81\",\"location\":[-8.321670947368421,0.2385650526315789,3.7660830526315787]},{\"element\":\"H\",\"label\":\"H82\",\"location\":[-7.461556947368421,-10.16986794736842,-4.431226947368421]},{\"element\":\"C\",\"label\":\"C83\",\"location\":[-6.410538947368421,-10.16881894736842,-4.6945059473684205]},{\"element\":\"O\",\"label\":\"O84\",\"location\":[-8.321670947368421,-10.250634947368422,-6.723116947368421]},{\"element\":\"H\",\"label\":\"H85\",\"location\":[3.0276430526315785,0.0487100526315789,4.799269052631579]},{\"element\":\"C\",\"label\":\"C86\",\"location\":[4.078661052631579,0.047661052631578896,5.062548052631579]},{\"element\":\"O\",\"label\":\"O87\",\"location\":[2.1675290526315787,0.1294770526315789,7.091159052631579]},{\"element\":\"H\",\"label\":\"H88\",\"location\":[3.0276430526315785,10.53791005263158,-5.6899309473684205]},{\"element\":\"C\",\"label\":\"C89\",\"location\":[4.078661052631579,10.53686105263158,-5.426651947368421]},{\"element\":\"O\",\"label\":\"O90\",\"location\":[2.1675290526315787,10.618677052631579,-3.3980409473684214]},{\"element\":\"H\",\"label\":\"H91\",\"location\":[-7.461556947368421,0.0487100526315789,-5.6899309473684205]},{\"element\":\"C\",\"label\":\"C92\",\"location\":[-6.410538947368421,0.047661052631578896,-5.426651947368421]},{\"element\":\"O\",\"label\":\"O93\",\"location\":[-8.321670947368421,0.1294770526315789,-3.3980409473684214]},{\"element\":\"H\",\"label\":\"H94\",\"location\":[-7.461556947368421,10.53791005263158,4.799269052631579]},{\"element\":\"C\",\"label\":\"C95\",\"location\":[-6.410538947368421,10.53686105263158,5.062548052631579]},{\"element\":\"O\",\"label\":\"O96\",\"location\":[-8.321670947368421,10.618677052631579,7.091159052631579]},{\"element\":\"H\",\"label\":\"H97\",\"location\":[-4.431226947368421,-2.659600947368421,0.04871005263157881]},{\"element\":\"C\",\"label\":\"C98\",\"location\":[-4.6945059473684205,-3.710618947368421,0.047661052631578806]},{\"element\":\"O\",\"label\":\"O99\",\"location\":[-6.723116947368421,-1.7994869473684212,0.12947705263157883]},{\"element\":\"H\",\"label\":\"H100\",\"location\":[-4.431226947368421,7.829599052631579,10.53791005263158]},{\"element\":\"C\",\"label\":\"C101\",\"location\":[-4.6945059473684205,6.778581052631579,10.53686105263158]},{\"element\":\"O\",\"label\":\"O102\",\"location\":[-6.723116947368421,8.689713052631578,10.618677052631579]},{\"element\":\"H\",\"label\":\"H103\",\"location\":[6.057973052631579,-2.659600947368421,10.53791005263158]},{\"element\":\"C\",\"label\":\"C104\",\"location\":[5.794694052631579,-3.710618947368421,10.53686105263158]},{\"element\":\"O\",\"label\":\"O105\",\"location\":[3.7660830526315787,-1.7994869473684212,10.618677052631579]},{\"element\":\"H\",\"label\":\"H106\",\"location\":[6.057973052631579,7.829599052631579,0.04871005263157881]},{\"element\":\"C\",\"label\":\"C107\",\"location\":[5.794694052631579,6.778581052631579,0.047661052631578806]},{\"element\":\"O\",\"label\":\"O108\",\"location\":[3.7660830526315787,8.689713052631578,0.12947705263157883]},{\"element\":\"H\",\"label\":\"H109\",\"location\":[4.799269052631579,-2.659600947368421,0.3193320526315788]},{\"element\":\"C\",\"label\":\"C110\",\"location\":[5.062548052631579,-3.710618947368421,0.32038105263157884]},{\"element\":\"O\",\"label\":\"O111\",\"location\":[7.091159052631579,-1.7994869473684212,0.23856505263157882]},{\"element\":\"H\",\"label\":\"H112\",\"location\":[4.799269052631579,7.829599052631579,-10.16986794736842]},{\"element\":\"C\",\"label\":\"C113\",\"location\":[5.062548052631579,6.778581052631579,-10.16881894736842]},{\"element\":\"O\",\"label\":\"O114\",\"location\":[7.091159052631579,8.689713052631578,-10.250634947368422]},{\"element\":\"H\",\"label\":\"H115\",\"location\":[-5.6899309473684205,-2.659600947368421,-10.16986794736842]},{\"element\":\"C\",\"label\":\"C116\",\"location\":[-5.426651947368421,-3.710618947368421,-10.16881894736842]},{\"element\":\"O\",\"label\":\"O117\",\"location\":[-3.3980409473684214,-1.7994869473684212,-10.250634947368422]},{\"element\":\"H\",\"label\":\"H118\",\"location\":[-5.6899309473684205,7.829599052631579,0.3193320526315788]},{\"element\":\"C\",\"label\":\"C119\",\"location\":[-5.426651947368421,6.778581052631579,0.32038105263157884]},{\"element\":\"O\",\"label\":\"O120\",\"location\":[-3.3980409473684214,8.689713052631578,0.23856505263157882]},{\"element\":\"H\",\"label\":\"H121\",\"location\":[-4.431226947368421,3.027643052631579,0.3193320526315788]},{\"element\":\"C\",\"label\":\"C122\",\"location\":[-4.6945059473684205,4.078661052631579,0.32038105263157884]},{\"element\":\"O\",\"label\":\"O123\",\"location\":[-6.723116947368421,2.167529052631579,0.23856505263157882]},{\"element\":\"H\",\"label\":\"H124\",\"location\":[-4.431226947368421,-7.461556947368421,-10.16986794736842]},{\"element\":\"C\",\"label\":\"C125\",\"location\":[-4.6945059473684205,-6.410538947368421,-10.16881894736842]},{\"element\":\"O\",\"label\":\"O126\",\"location\":[-6.723116947368421,-8.321670947368421,-10.250634947368422]},{\"element\":\"H\",\"label\":\"H127\",\"location\":[6.057973052631579,3.027643052631579,-10.16986794736842]},{\"element\":\"C\",\"label\":\"C128\",\"location\":[5.794694052631579,4.078661052631579,-10.16881894736842]},{\"element\":\"O\",\"label\":\"O129\",\"location\":[3.7660830526315787,2.167529052631579,-10.250634947368422]},{\"element\":\"H\",\"label\":\"H130\",\"location\":[6.057973052631579,-7.461556947368421,0.3193320526315788]},{\"element\":\"C\",\"label\":\"C131\",\"location\":[5.794694052631579,-6.410538947368421,0.32038105263157884]},{\"element\":\"O\",\"label\":\"O132\",\"location\":[3.7660830526315787,-8.321670947368421,0.23856505263157882]},{\"element\":\"H\",\"label\":\"H133\",\"location\":[4.799269052631579,3.027643052631579,0.04871005263157881]},{\"element\":\"C\",\"label\":\"C134\",\"location\":[5.062548052631579,4.078661052631579,0.047661052631578806]},{\"element\":\"O\",\"label\":\"O135\",\"location\":[7.091159052631579,2.167529052631579,0.12947705263157883]},{\"element\":\"H\",\"label\":\"H136\",\"location\":[4.799269052631579,-7.461556947368421,10.53791005263158]},{\"element\":\"C\",\"label\":\"C137\",\"location\":[5.062548052631579,-6.410538947368421,10.53686105263158]},{\"element\":\"O\",\"label\":\"O138\",\"location\":[7.091159052631579,-8.321670947368421,10.618677052631579]},{\"element\":\"H\",\"label\":\"H139\",\"location\":[-5.6899309473684205,3.027643052631579,10.53791005263158]},{\"element\":\"C\",\"label\":\"C140\",\"location\":[-5.426651947368421,4.078661052631579,10.53686105263158]},{\"element\":\"O\",\"label\":\"O141\",\"location\":[-3.3980409473684214,2.167529052631579,10.618677052631579]},{\"element\":\"H\",\"label\":\"H142\",\"location\":[-5.6899309473684205,-7.461556947368421,0.04871005263157881]},{\"element\":\"C\",\"label\":\"C143\",\"location\":[-5.426651947368421,-6.410538947368421,0.047661052631578806]},{\"element\":\"O\",\"label\":\"O144\",\"location\":[-3.3980409473684214,-8.321670947368421,0.12947705263157883]},{\"element\":\"H\",\"label\":\"H145\",\"location\":[-4.431226947368421,0.0487100526315789,-2.6596009473684212]},{\"element\":\"C\",\"label\":\"C146\",\"location\":[-4.6945059473684205,0.047661052631578896,-3.7106189473684212]},{\"element\":\"O\",\"label\":\"O147\",\"location\":[-6.723116947368421,0.1294770526315789,-1.7994869473684212]},{\"element\":\"H\",\"label\":\"H148\",\"location\":[-4.431226947368421,10.53791005263158,7.829599052631579]},{\"element\":\"C\",\"label\":\"C149\",\"location\":[-4.6945059473684205,10.53686105263158,6.778581052631579]},{\"element\":\"O\",\"label\":\"O150\",\"location\":[-6.723116947368421,10.618677052631579,8.689713052631578]},{\"element\":\"H\",\"label\":\"H151\",\"location\":[6.057973052631579,0.0487100526315789,7.829599052631579]},{\"element\":\"C\",\"label\":\"C152\",\"location\":[5.794694052631579,0.047661052631578896,6.778581052631579]},{\"element\":\"O\",\"label\":\"O153\",\"location\":[3.7660830526315787,0.1294770526315789,8.689713052631578]},{\"element\":\"H\",\"label\":\"H154\",\"location\":[6.057973052631579,10.53791005263158,-2.6596009473684212]},{\"element\":\"C\",\"label\":\"C155\",\"location\":[5.794694052631579,10.53686105263158,-3.7106189473684212]},{\"element\":\"O\",\"label\":\"O156\",\"location\":[3.7660830526315787,10.618677052631579,-1.7994869473684212]},{\"element\":\"H\",\"label\":\"H157\",\"location\":[4.799269052631579,0.3193320526315789,-2.6596009473684212]},{\"element\":\"C\",\"label\":\"C158\",\"location\":[5.062548052631579,0.3203810526315789,-3.7106189473684212]},{\"element\":\"O\",\"label\":\"O159\",\"location\":[7.091159052631579,0.2385650526315789,-1.7994869473684212]},{\"element\":\"H\",\"label\":\"H160\",\"location\":[4.799269052631579,-10.16986794736842,7.829599052631579]},{\"element\":\"C\",\"label\":\"C161\",\"location\":[5.062548052631579,-10.16881894736842,6.778581052631579]},{\"element\":\"O\",\"label\":\"O162\",\"location\":[7.091159052631579,-10.250634947368422,8.689713052631578]},{\"element\":\"H\",\"label\":\"H163\",\"location\":[-5.6899309473684205,0.3193320526315789,7.829599052631579]},{\"element\":\"C\",\"label\":\"C164\",\"location\":[-5.426651947368421,0.3203810526315789,6.778581052631579]},{\"element\":\"O\",\"label\":\"O165\",\"location\":[-3.3980409473684214,0.2385650526315789,8.689713052631578]},{\"element\":\"H\",\"label\":\"H166\",\"location\":[-5.6899309473684205,-10.16986794736842,-2.6596009473684212]},{\"element\":\"C\",\"label\":\"C167\",\"location\":[-5.426651947368421,-10.16881894736842,-3.7106189473684212]},{\"element\":\"O\",\"label\":\"O168\",\"location\":[-3.3980409473684214,-10.250634947368422,-1.7994869473684212]},{\"element\":\"H\",\"label\":\"H169\",\"location\":[-4.431226947368421,0.3193320526315789,3.0276430526315785]},{\"element\":\"C\",\"label\":\"C170\",\"location\":[-4.6945059473684205,0.3203810526315789,4.078661052631579]},{\"element\":\"O\",\"label\":\"O171\",\"location\":[-6.723116947368421,0.2385650526315789,2.1675290526315787]},{\"element\":\"H\",\"label\":\"H172\",\"location\":[-4.431226947368421,-10.16986794736842,-7.461556947368421]},{\"element\":\"C\",\"label\":\"C173\",\"location\":[-4.6945059473684205,-10.16881894736842,-6.410538947368421]},{\"element\":\"O\",\"label\":\"O174\",\"location\":[-6.723116947368421,-10.250634947368422,-8.321670947368421]},{\"element\":\"H\",\"label\":\"H175\",\"location\":[6.057973052631579,0.3193320526315789,-7.461556947368421]},{\"element\":\"C\",\"label\":\"C176\",\"location\":[5.794694052631579,0.3203810526315789,-6.410538947368421]},{\"element\":\"O\",\"label\":\"O177\",\"location\":[3.7660830526315787,0.2385650526315789,-8.321670947368421]},{\"element\":\"H\",\"label\":\"H178\",\"location\":[6.057973052631579,-10.16986794736842,3.0276430526315785]},{\"element\":\"C\",\"label\":\"C179\",\"location\":[5.794694052631579,-10.16881894736842,4.078661052631579]},{\"element\":\"O\",\"label\":\"O180\",\"location\":[3.7660830526315787,-10.250634947368422,2.1675290526315787]},{\"element\":\"H\",\"label\":\"H181\",\"location\":[4.799269052631579,0.0487100526315789,3.0276430526315785]},{\"element\":\"C\",\"label\":\"C182\",\"location\":[5.062548052631579,0.047661052631578896,4.078661052631579]},{\"element\":\"O\",\"label\":\"O183\",\"location\":[7.091159052631579,0.1294770526315789,2.1675290526315787]},{\"element\":\"H\",\"label\":\"H184\",\"location\":[4.799269052631579,10.53791005263158,-7.461556947368421]},{\"element\":\"C\",\"label\":\"C185\",\"location\":[5.062548052631579,10.53686105263158,-6.410538947368421]},{\"element\":\"O\",\"label\":\"O186\",\"location\":[7.091159052631579,10.618677052631579,-8.321670947368421]},{\"element\":\"H\",\"label\":\"H187\",\"location\":[-5.6899309473684205,0.0487100526315789,-7.461556947368421]},{\"element\":\"C\",\"label\":\"C188\",\"location\":[-5.426651947368421,0.047661052631578896,-6.410538947368421]},{\"element\":\"O\",\"label\":\"O189\",\"location\":[-3.3980409473684214,0.1294770526315789,-8.321670947368421]},{\"element\":\"H\",\"label\":\"H190\",\"location\":[-5.6899309473684205,10.53791005263158,3.0276430526315785]},{\"element\":\"C\",\"label\":\"C191\",\"location\":[-5.426651947368421,10.53686105263158,4.078661052631579]},{\"element\":\"O\",\"label\":\"O192\",\"location\":[-3.3980409473684214,10.618677052631579,2.1675290526315787]},{\"element\":\"H\",\"label\":\"H193\",\"location\":[0.04871005263157887,-2.659600947368421,-4.431226947368421]},{\"element\":\"C\",\"label\":\"C194\",\"location\":[0.04766105263157887,-3.710618947368421,-4.6945059473684205]},{\"element\":\"O\",\"label\":\"O195\",\"location\":[0.12947705263157888,-1.7994869473684212,-6.723116947368421]},{\"element\":\"H\",\"label\":\"H196\",\"location\":[0.04871005263157887,7.829599052631579,6.057973052631579]},{\"element\":\"C\",\"label\":\"C197\",\"location\":[0.04766105263157887,6.778581052631579,5.794694052631579]},{\"element\":\"O\",\"label\":\"O198\",\"location\":[0.12947705263157888,8.689713052631578,3.7660830526315787]},{\"element\":\"H\",\"label\":\"H199\",\"location\":[10.53791005263158,-2.659600947368421,6.057973052631579]},{\"element\":\"C\",\"label\":\"C200\",\"location\":[10.53686105263158,-3.710618947368421,5.794694052631579]},{\"element\":\"O\",\"label\":\"O201\",\"location\":[10.618677052631579,-1.7994869473684212,3.7660830526315787]},{\"element\":\"H\",\"label\":\"H202\",\"location\":[10.53791005263158,7.829599052631579,-4.431226947368421]},{\"element\":\"C\",\"label\":\"C203\",\"location\":[10.53686105263158,6.778581052631579,-4.6945059473684205]},{\"element\":\"O\",\"label\":\"O204\",\"location\":[10.618677052631579,8.689713052631578,-6.723116947368421]},{\"element\":\"H\",\"label\":\"H205\",\"location\":[0.3193320526315789,-2.659600947368421,4.799269052631579]},{\"element\":\"C\",\"label\":\"C206\",\"location\":[0.3203810526315789,-3.710618947368421,5.062548052631579]},{\"element\":\"O\",\"label\":\"O207\",\"location\":[0.23856505263157887,-1.7994869473684212,7.091159052631579]},{\"element\":\"H\",\"label\":\"H208\",\"location\":[0.3193320526315789,7.829599052631579,-5.6899309473684205]},{\"element\":\"C\",\"label\":\"C209\",\"location\":[0.3203810526315789,6.778581052631579,-5.426651947368421]},{\"element\":\"O\",\"label\":\"O210\",\"location\":[0.23856505263157887,8.689713052631578,-3.3980409473684214]},{\"element\":\"H\",\"label\":\"H211\",\"location\":[-10.16986794736842,-2.659600947368421,-5.6899309473684205]},{\"element\":\"C\",\"label\":\"C212\",\"location\":[-10.16881894736842,-3.710618947368421,-5.426651947368421]},{\"element\":\"O\",\"label\":\"O213\",\"location\":[-10.250634947368422,-1.7994869473684212,-3.3980409473684214]},{\"element\":\"H\",\"label\":\"H214\",\"location\":[-10.16986794736842,7.829599052631579,4.799269052631579]},{\"element\":\"C\",\"label\":\"C215\",\"location\":[-10.16881894736842,6.778581052631579,5.062548052631579]},{\"element\":\"O\",\"label\":\"O216\",\"location\":[-10.250634947368422,8.689713052631578,7.091159052631579]},{\"element\":\"H\",\"label\":\"H217\",\"location\":[0.3193320526315789,3.027643052631579,-4.431226947368421]},{\"element\":\"C\",\"label\":\"C218\",\"location\":[0.3203810526315789,4.078661052631579,-4.6945059473684205]},{\"element\":\"O\",\"label\":\"O219\",\"location\":[0.23856505263157887,2.167529052631579,-6.723116947368421]},{\"element\":\"H\",\"label\":\"H220\",\"location\":[0.3193320526315789,-7.461556947368421,6.057973052631579]},{\"element\":\"C\",\"label\":\"C221\",\"location\":[0.3203810526315789,-6.410538947368421,5.794694052631579]},{\"element\":\"O\",\"label\":\"O222\",\"location\":[0.23856505263157887,-8.321670947368421,3.7660830526315787]},{\"element\":\"H\",\"label\":\"H223\",\"location\":[-10.16986794736842,3.027643052631579,6.057973052631579]},{\"element\":\"C\",\"label\":\"C224\",\"location\":[-10.16881894736842,4.078661052631579,5.794694052631579]},{\"element\":\"O\",\"label\":\"O225\",\"location\":[-10.250634947368422,2.167529052631579,3.7660830526315787]},{\"element\":\"H\",\"label\":\"H226\",\"location\":[-10.16986794736842,-7.461556947368421,-4.431226947368421]},{\"element\":\"C\",\"label\":\"C227\",\"location\":[-10.16881894736842,-6.410538947368421,-4.6945059473684205]},{\"element\":\"O\",\"label\":\"O228\",\"location\":[-10.250634947368422,-8.321670947368421,-6.723116947368421]},{\"element\":\"H\",\"label\":\"H229\",\"location\":[0.04871005263157887,3.027643052631579,4.799269052631579]},{\"element\":\"C\",\"label\":\"C230\",\"location\":[0.04766105263157887,4.078661052631579,5.062548052631579]},{\"element\":\"O\",\"label\":\"O231\",\"location\":[0.12947705263157888,2.167529052631579,7.091159052631579]},{\"element\":\"H\",\"label\":\"H232\",\"location\":[0.04871005263157887,-7.461556947368421,-5.6899309473684205]},{\"element\":\"C\",\"label\":\"C233\",\"location\":[0.04766105263157887,-6.410538947368421,-5.426651947368421]},{\"element\":\"O\",\"label\":\"O234\",\"location\":[0.12947705263157888,-8.321670947368421,-3.3980409473684214]},{\"element\":\"H\",\"label\":\"H235\",\"location\":[10.53791005263158,3.027643052631579,-5.6899309473684205]},{\"element\":\"C\",\"label\":\"C236\",\"location\":[10.53686105263158,4.078661052631579,-5.426651947368421]},{\"element\":\"O\",\"label\":\"O237\",\"location\":[10.618677052631579,2.167529052631579,-3.3980409473684214]},{\"element\":\"H\",\"label\":\"H238\",\"location\":[10.53791005263158,-7.461556947368421,4.799269052631579]},{\"element\":\"C\",\"label\":\"C239\",\"location\":[10.53686105263158,-6.410538947368421,5.062548052631579]},{\"element\":\"O\",\"label\":\"O240\",\"location\":[10.618677052631579,-8.321670947368421,7.091159052631579]},{\"element\":\"H\",\"label\":\"H241\",\"location\":[-2.6596009473684212,-4.431226947368421,0.04871005263157881]},{\"element\":\"C\",\"label\":\"C242\",\"location\":[-3.7106189473684212,-4.6945059473684205,0.047661052631578806]},{\"element\":\"O\",\"label\":\"O243\",\"location\":[-1.7994869473684212,-6.723116947368421,0.12947705263157883]},{\"element\":\"H\",\"label\":\"H244\",\"location\":[-2.6596009473684212,6.057973052631579,10.53791005263158]},{\"element\":\"C\",\"label\":\"C245\",\"location\":[-3.7106189473684212,5.794694052631579,10.53686105263158]},{\"element\":\"O\",\"label\":\"O246\",\"location\":[-1.7994869473684212,3.766083052631579,10.618677052631579]},{\"element\":\"H\",\"label\":\"H247\",\"location\":[7.829599052631579,-4.431226947368421,10.53791005263158]},{\"element\":\"C\",\"label\":\"C248\",\"location\":[6.778581052631579,-4.6945059473684205,10.53686105263158]},{\"element\":\"O\",\"label\":\"O249\",\"location\":[8.689713052631578,-6.723116947368421,10.618677052631579]},{\"element\":\"H\",\"label\":\"H250\",\"location\":[7.829599052631579,6.057973052631579,0.04871005263157881]},{\"element\":\"C\",\"label\":\"C251\",\"location\":[6.778581052631579,5.794694052631579,0.047661052631578806]},{\"element\":\"O\",\"label\":\"O252\",\"location\":[8.689713052631578,3.766083052631579,0.12947705263157883]},{\"element\":\"H\",\"label\":\"H253\",\"location\":[-2.6596009473684212,4.799269052631579,0.3193320526315788]},{\"element\":\"C\",\"label\":\"C254\",\"location\":[-3.7106189473684212,5.062548052631579,0.32038105263157884]},{\"element\":\"O\",\"label\":\"O255\",\"location\":[-1.7994869473684212,7.091159052631579,0.23856505263157882]},{\"element\":\"H\",\"label\":\"H256\",\"location\":[-2.6596009473684212,-5.6899309473684205,-10.16986794736842]},{\"element\":\"C\",\"label\":\"C257\",\"location\":[-3.7106189473684212,-5.426651947368421,-10.16881894736842]},{\"element\":\"O\",\"label\":\"O258\",\"location\":[-1.7994869473684212,-3.398040947368421,-10.250634947368422]},{\"element\":\"H\",\"label\":\"H259\",\"location\":[7.829599052631579,4.799269052631579,-10.16986794736842]},{\"element\":\"C\",\"label\":\"C260\",\"location\":[6.778581052631579,5.062548052631579,-10.16881894736842]},{\"element\":\"O\",\"label\":\"O261\",\"location\":[8.689713052631578,7.091159052631579,-10.250634947368422]},{\"element\":\"H\",\"label\":\"H262\",\"location\":[7.829599052631579,-5.6899309473684205,0.3193320526315788]},{\"element\":\"C\",\"label\":\"C263\",\"location\":[6.778581052631579,-5.426651947368421,0.32038105263157884]},{\"element\":\"O\",\"label\":\"O264\",\"location\":[8.689713052631578,-3.398040947368421,0.23856505263157882]},{\"element\":\"H\",\"label\":\"H265\",\"location\":[3.0276430526315785,-4.431226947368421,0.3193320526315788]},{\"element\":\"C\",\"label\":\"C266\",\"location\":[4.078661052631579,-4.6945059473684205,0.32038105263157884]},{\"element\":\"O\",\"label\":\"O267\",\"location\":[2.1675290526315787,-6.723116947368421,0.23856505263157882]},{\"element\":\"H\",\"label\":\"H268\",\"location\":[3.0276430526315785,6.057973052631579,-10.16986794736842]},{\"element\":\"C\",\"label\":\"C269\",\"location\":[4.078661052631579,5.794694052631579,-10.16881894736842]},{\"element\":\"O\",\"label\":\"O270\",\"location\":[2.1675290526315787,3.766083052631579,-10.250634947368422]},{\"element\":\"H\",\"label\":\"H271\",\"location\":[-7.461556947368421,-4.431226947368421,-10.16986794736842]},{\"element\":\"C\",\"label\":\"C272\",\"location\":[-6.410538947368421,-4.6945059473684205,-10.16881894736842]},{\"element\":\"O\",\"label\":\"O273\",\"location\":[-8.321670947368421,-6.723116947368421,-10.250634947368422]},{\"element\":\"H\",\"label\":\"H274\",\"location\":[-7.461556947368421,6.057973052631579,0.3193320526315788]},{\"element\":\"C\",\"label\":\"C275\",\"location\":[-6.410538947368421,5.794694052631579,0.32038105263157884]},{\"element\":\"O\",\"label\":\"O276\",\"location\":[-8.321670947368421,3.766083052631579,0.23856505263157882]},{\"element\":\"H\",\"label\":\"H277\",\"location\":[3.0276430526315785,4.799269052631579,0.04871005263157881]},{\"element\":\"C\",\"label\":\"C278\",\"location\":[4.078661052631579,5.062548052631579,0.047661052631578806]},{\"element\":\"O\",\"label\":\"O279\",\"location\":[2.1675290526315787,7.091159052631579,0.12947705263157883]},{\"element\":\"H\",\"label\":\"H280\",\"location\":[3.0276430526315785,-5.6899309473684205,10.53791005263158]},{\"element\":\"C\",\"label\":\"C281\",\"location\":[4.078661052631579,-5.426651947368421,10.53686105263158]},{\"element\":\"O\",\"label\":\"O282\",\"location\":[2.1675290526315787,-3.398040947368421,10.618677052631579]},{\"element\":\"H\",\"label\":\"H283\",\"location\":[-7.461556947368421,4.799269052631579,10.53791005263158]},{\"element\":\"C\",\"label\":\"C284\",\"location\":[-6.410538947368421,5.062548052631579,10.53686105263158]},{\"element\":\"O\",\"label\":\"O285\",\"location\":[-8.321670947368421,7.091159052631579,10.618677052631579]},{\"element\":\"H\",\"label\":\"H286\",\"location\":[-7.461556947368421,-5.6899309473684205,0.04871005263157881]},{\"element\":\"C\",\"label\":\"C287\",\"location\":[-6.410538947368421,-5.426651947368421,0.047661052631578806]},{\"element\":\"O\",\"label\":\"O288\",\"location\":[-8.321670947368421,-3.398040947368421,0.12947705263157883]},{\"element\":\"C\",\"label\":\"C289\",\"location\":[0.09801005263157887,-7.109119947368421,-3.0120379473684213]},{\"element\":\"C\",\"label\":\"C290\",\"location\":[0.05395505263157887,-6.049710947368421,-4.071446947368421]},{\"element\":\"C\",\"label\":\"C291\",\"location\":[10.58721005263158,-7.109119947368421,7.477162052631579]},{\"element\":\"C\",\"label\":\"C292\",\"location\":[10.54315505263158,-6.049710947368421,6.417753052631579]},{\"element\":\"C\",\"label\":\"C293\",\"location\":[0.27003205263157887,7.477162052631579,-3.0120379473684213]},{\"element\":\"C\",\"label\":\"C294\",\"location\":[0.3140870526315789,6.417753052631579,-4.071446947368421]},{\"element\":\"C\",\"label\":\"C295\",\"location\":[-10.21916794736842,7.477162052631579,7.477162052631579]},{\"element\":\"C\",\"label\":\"C296\",\"location\":[-10.17511294736842,6.417753052631579,6.417753052631579]},{\"element\":\"C\",\"label\":\"C297\",\"location\":[-10.21916794736842,-3.012037947368421,-3.0120379473684213]},{\"element\":\"C\",\"label\":\"C298\",\"location\":[-10.17511294736842,-4.071446947368421,-4.071446947368421]},{\"element\":\"C\",\"label\":\"C299\",\"location\":[0.27003205263157887,-7.109119947368421,3.3800800526315786]},{\"element\":\"C\",\"label\":\"C300\",\"location\":[0.3140870526315789,-6.049710947368421,4.439489052631579]},{\"element\":\"C\",\"label\":\"C301\",\"location\":[-10.21916794736842,-7.109119947368421,-7.109119947368421]},{\"element\":\"C\",\"label\":\"C302\",\"location\":[-10.17511294736842,-6.049710947368421,-6.049710947368421]},{\"element\":\"C\",\"label\":\"C303\",\"location\":[0.09801005263157887,7.477162052631579,3.3800800526315786]},{\"element\":\"C\",\"label\":\"C304\",\"location\":[0.05395505263157887,6.417753052631579,4.439489052631579]},{\"element\":\"C\",\"label\":\"C305\",\"location\":[0.09801005263157887,-3.012037947368421,-7.109119947368421]},{\"element\":\"C\",\"label\":\"C306\",\"location\":[0.05395505263157887,-4.071446947368421,-6.049710947368421]},{\"element\":\"C\",\"label\":\"C307\",\"location\":[10.58721005263158,7.477162052631579,-7.109119947368421]},{\"element\":\"C\",\"label\":\"C308\",\"location\":[10.54315505263158,6.417753052631579,-6.049710947368421]},{\"element\":\"C\",\"label\":\"C309\",\"location\":[-3.0120379473684213,0.09801005263157889,-7.109119947368421]},{\"element\":\"C\",\"label\":\"C310\",\"location\":[-4.071446947368421,0.0539550526315789,-6.049710947368421]},{\"element\":\"C\",\"label\":\"C311\",\"location\":[-3.0120379473684213,10.58721005263158,3.3800800526315786]},{\"element\":\"C\",\"label\":\"C312\",\"location\":[-4.071446947368421,10.54315505263158,4.439489052631579]},{\"element\":\"C\",\"label\":\"C313\",\"location\":[-3.0120379473684213,0.27003205263157887,7.477162052631579]},{\"element\":\"C\",\"label\":\"C314\",\"location\":[-4.071446947368421,0.3140870526315789,6.417753052631579]},{\"element\":\"C\",\"label\":\"C315\",\"location\":[-3.0120379473684213,-10.21916794736842,-3.0120379473684213]},{\"element\":\"C\",\"label\":\"C316\",\"location\":[-4.071446947368421,-10.17511294736842,-4.071446947368421]},{\"element\":\"C\",\"label\":\"C317\",\"location\":[3.3800800526315786,0.27003205263157887,-7.109119947368421]},{\"element\":\"C\",\"label\":\"C318\",\"location\":[4.439489052631579,0.3140870526315789,-6.049710947368421]},{\"element\":\"C\",\"label\":\"C319\",\"location\":[3.3800800526315786,-10.21916794736842,3.3800800526315786]},{\"element\":\"C\",\"label\":\"C320\",\"location\":[4.439489052631579,-10.17511294736842,4.439489052631579]},{\"element\":\"C\",\"label\":\"C321\",\"location\":[-7.109119947368421,-10.21916794736842,-7.109119947368421]},{\"element\":\"C\",\"label\":\"C322\",\"location\":[-6.049710947368421,-10.17511294736842,-6.049710947368421]},{\"element\":\"C\",\"label\":\"C323\",\"location\":[3.3800800526315786,0.09801005263157889,7.477162052631579]},{\"element\":\"C\",\"label\":\"C324\",\"location\":[4.439489052631579,0.0539550526315789,6.417753052631579]},{\"element\":\"C\",\"label\":\"C325\",\"location\":[3.3800800526315786,10.58721005263158,-3.0120379473684213]},{\"element\":\"C\",\"label\":\"C326\",\"location\":[4.439489052631579,10.54315505263158,-4.071446947368421]},{\"element\":\"C\",\"label\":\"C327\",\"location\":[-7.109119947368421,0.09801005263157889,-3.0120379473684213]},{\"element\":\"C\",\"label\":\"C328\",\"location\":[-6.049710947368421,0.0539550526315789,-4.071446947368421]},{\"element\":\"C\",\"label\":\"C329\",\"location\":[-7.109119947368421,-3.012037947368421,0.0980100526315788]},{\"element\":\"C\",\"label\":\"C330\",\"location\":[-6.049710947368421,-4.071446947368421,0.053955052631578806]},{\"element\":\"C\",\"label\":\"C331\",\"location\":[-7.109119947368421,7.477162052631579,10.58721005263158]},{\"element\":\"C\",\"label\":\"C332\",\"location\":[-6.049710947368421,6.417753052631579,10.54315505263158]},{\"element\":\"C\",\"label\":\"C333\",\"location\":[7.477162052631579,-3.012037947368421,0.2700320526315788]},{\"element\":\"C\",\"label\":\"C334\",\"location\":[6.417753052631579,-4.071446947368421,0.3140870526315788]},{\"element\":\"C\",\"label\":\"C335\",\"location\":[7.477162052631579,7.477162052631579,-10.21916794736842]},{\"element\":\"C\",\"label\":\"C336\",\"location\":[6.417753052631579,6.417753052631579,-10.17511294736842]},{\"element\":\"C\",\"label\":\"C337\",\"location\":[-3.0120379473684213,-3.012037947368421,-10.21916794736842]},{\"element\":\"C\",\"label\":\"C338\",\"location\":[-4.071446947368421,-4.071446947368421,-10.17511294736842]},{\"element\":\"C\",\"label\":\"C339\",\"location\":[-7.109119947368421,3.380080052631579,0.2700320526315788]},{\"element\":\"C\",\"label\":\"C340\",\"location\":[-6.049710947368421,4.439489052631579,0.3140870526315788]},{\"element\":\"C\",\"label\":\"C341\",\"location\":[-7.109119947368421,-7.109119947368421,-10.21916794736842]},{\"element\":\"C\",\"label\":\"C342\",\"location\":[-6.049710947368421,-6.049710947368421,-10.17511294736842]},{\"element\":\"C\",\"label\":\"C343\",\"location\":[7.477162052631579,3.380080052631579,0.0980100526315788]},{\"element\":\"C\",\"label\":\"C344\",\"location\":[6.417753052631579,4.439489052631579,0.053955052631578806]},{\"element\":\"C\",\"label\":\"C345\",\"location\":[7.477162052631579,-7.109119947368421,10.58721005263158]},{\"element\":\"C\",\"label\":\"C346\",\"location\":[6.417753052631579,-6.049710947368421,10.54315505263158]},{\"element\":\"C\",\"label\":\"C347\",\"location\":[-3.0120379473684213,-7.109119947368421,0.0980100526315788]},{\"element\":\"C\",\"label\":\"C348\",\"location\":[-4.071446947368421,-6.049710947368421,0.053955052631578806]},{\"element\":\"C\",\"label\":\"C349\",\"location\":[-7.109119947368421,10.58721005263158,7.477162052631579]},{\"element\":\"C\",\"label\":\"C350\",\"location\":[-6.049710947368421,10.54315505263158,6.417753052631579]},{\"element\":\"C\",\"label\":\"C351\",\"location\":[7.477162052631579,0.27003205263157887,-3.0120379473684213]},{\"element\":\"C\",\"label\":\"C352\",\"location\":[6.417753052631579,0.3140870526315789,-4.071446947368421]},{\"element\":\"C\",\"label\":\"C353\",\"location\":[7.477162052631579,-10.21916794736842,7.477162052631579]},{\"element\":\"C\",\"label\":\"C354\",\"location\":[6.417753052631579,-10.17511294736842,6.417753052631579]},{\"element\":\"C\",\"label\":\"C355\",\"location\":[-7.109119947368421,0.27003205263157887,3.3800800526315786]},{\"element\":\"C\",\"label\":\"C356\",\"location\":[-6.049710947368421,0.3140870526315789,4.439489052631579]},{\"element\":\"C\",\"label\":\"C357\",\"location\":[7.477162052631579,0.09801005263157889,3.3800800526315786]},{\"element\":\"C\",\"label\":\"C358\",\"location\":[6.417753052631579,0.0539550526315789,4.439489052631579]},{\"element\":\"C\",\"label\":\"C359\",\"location\":[7.477162052631579,10.58721005263158,-7.109119947368421]},{\"element\":\"C\",\"label\":\"C360\",\"location\":[6.417753052631579,10.54315505263158,-6.049710947368421]},{\"element\":\"C\",\"label\":\"C361\",\"location\":[10.58721005263158,-3.012037947368421,3.3800800526315786]},{\"element\":\"C\",\"label\":\"C362\",\"location\":[10.54315505263158,-4.071446947368421,4.439489052631579]},{\"element\":\"C\",\"label\":\"C363\",\"location\":[0.27003205263157887,-3.012037947368421,7.477162052631579]},{\"element\":\"C\",\"label\":\"C364\",\"location\":[0.3140870526315789,-4.071446947368421,6.417753052631579]},{\"element\":\"C\",\"label\":\"C365\",\"location\":[0.27003205263157887,3.380080052631579,-7.109119947368421]},{\"element\":\"C\",\"label\":\"C366\",\"location\":[0.3140870526315789,4.439489052631579,-6.049710947368421]},{\"element\":\"C\",\"label\":\"C367\",\"location\":[-10.21916794736842,3.380080052631579,3.3800800526315786]},{\"element\":\"C\",\"label\":\"C368\",\"location\":[-10.17511294736842,4.439489052631579,4.439489052631579]},{\"element\":\"C\",\"label\":\"C369\",\"location\":[0.09801005263157887,3.380080052631579,7.477162052631579]},{\"element\":\"C\",\"label\":\"C370\",\"location\":[0.05395505263157887,4.439489052631579,6.417753052631579]},{\"element\":\"C\",\"label\":\"C371\",\"location\":[10.58721005263158,3.380080052631579,-3.0120379473684213]},{\"element\":\"C\",\"label\":\"C372\",\"location\":[10.54315505263158,4.439489052631579,-4.071446947368421]},{\"element\":\"C\",\"label\":\"C373\",\"location\":[-3.0120379473684213,3.380080052631579,10.58721005263158]},{\"element\":\"C\",\"label\":\"C374\",\"location\":[-4.071446947368421,4.439489052631579,10.54315505263158]},{\"element\":\"C\",\"label\":\"C375\",\"location\":[-3.0120379473684213,7.477162052631579,0.2700320526315788]},{\"element\":\"C\",\"label\":\"C376\",\"location\":[-4.071446947368421,6.417753052631579,0.3140870526315788]},{\"element\":\"C\",\"label\":\"C377\",\"location\":[3.3800800526315786,-7.109119947368421,0.2700320526315788]},{\"element\":\"C\",\"label\":\"C378\",\"location\":[4.439489052631579,-6.049710947368421,0.3140870526315788]},{\"element\":\"C\",\"label\":\"C379\",\"location\":[3.3800800526315786,3.380080052631579,-10.21916794736842]},{\"element\":\"C\",\"label\":\"C380\",\"location\":[4.439489052631579,4.439489052631579,-10.17511294736842]},{\"element\":\"C\",\"label\":\"C381\",\"location\":[3.3800800526315786,7.477162052631579,0.0980100526315788]},{\"element\":\"C\",\"label\":\"C382\",\"location\":[4.439489052631579,6.417753052631579,0.053955052631578806]},{\"element\":\"C\",\"label\":\"C383\",\"location\":[3.3800800526315786,-3.012037947368421,10.58721005263158]},{\"element\":\"C\",\"label\":\"C384\",\"location\":[4.439489052631579,-4.071446947368421,10.54315505263158]},{\"element\":\"Zr\",\"label\":\"Zr385\",\"location\":[0.18402105263157886,-7.779379947368421,0.1840210526315788]},{\"element\":\"Zr\",\"label\":\"Zr386\",\"location\":[0.18402105263157886,2.709820052631579,-10.305178947368422]},{\"element\":\"Zr\",\"label\":\"Zr387\",\"location\":[-10.305178947368422,-7.779379947368421,-10.305178947368422]},{\"element\":\"Zr\",\"label\":\"Zr388\",\"location\":[-10.305178947368422,2.709820052631579,0.1840210526315788]},{\"element\":\"Zr\",\"label\":\"Zr389\",\"location\":[0.18402105263157886,8.14742205263158,0.1840210526315788]},{\"element\":\"Zr\",\"label\":\"Zr390\",\"location\":[0.18402105263157886,-2.341777947368421,-10.305178947368422]},{\"element\":\"Zr\",\"label\":\"Zr391\",\"location\":[-10.305178947368422,8.14742205263158,-10.305178947368422]},{\"element\":\"Zr\",\"label\":\"Zr392\",\"location\":[-10.305178947368422,-2.341777947368421,0.1840210526315788]},{\"element\":\"Zr\",\"label\":\"Zr393\",\"location\":[0.18402105263157886,0.1840210526315789,-7.779379947368421]},{\"element\":\"Zr\",\"label\":\"Zr394\",\"location\":[0.18402105263157886,-10.305178947368422,2.7098200526315788]},{\"element\":\"Zr\",\"label\":\"Zr395\",\"location\":[-10.305178947368422,0.1840210526315789,2.7098200526315788]},{\"element\":\"Zr\",\"label\":\"Zr396\",\"location\":[-10.305178947368422,-10.305178947368422,-7.779379947368421]},{\"element\":\"Zr\",\"label\":\"Zr397\",\"location\":[0.18402105263157886,0.1840210526315789,8.14742205263158]},{\"element\":\"Zr\",\"label\":\"Zr398\",\"location\":[0.18402105263157886,-10.305178947368422,-2.3417779473684215]},{\"element\":\"Zr\",\"label\":\"Zr399\",\"location\":[-10.305178947368422,0.1840210526315789,-2.3417779473684215]},{\"element\":\"Zr\",\"label\":\"Zr400\",\"location\":[-10.305178947368422,-10.305178947368422,8.14742205263158]},{\"element\":\"Zr\",\"label\":\"Zr401\",\"location\":[-7.779379947368421,0.1840210526315789,0.1840210526315788]},{\"element\":\"Zr\",\"label\":\"Zr402\",\"location\":[-7.779379947368421,-10.305178947368422,-10.305178947368422]},{\"element\":\"Zr\",\"label\":\"Zr403\",\"location\":[2.7098200526315788,0.1840210526315789,-10.305178947368422]},{\"element\":\"Zr\",\"label\":\"Zr404\",\"location\":[2.7098200526315788,-10.305178947368422,0.1840210526315788]},{\"element\":\"Zr\",\"label\":\"Zr405\",\"location\":[8.14742205263158,0.1840210526315789,0.1840210526315788]},{\"element\":\"Zr\",\"label\":\"Zr406\",\"location\":[8.14742205263158,-10.305178947368422,-10.305178947368422]},{\"element\":\"Zr\",\"label\":\"Zr407\",\"location\":[-2.3417779473684215,0.1840210526315789,-10.305178947368422]},{\"element\":\"Zr\",\"label\":\"Zr408\",\"location\":[-2.3417779473684215,-10.305178947368422,0.1840210526315788]},{\"element\":\"H\",\"label\":\"H409\",\"location\":[2.1511660526315786,-8.338033947368421,-1.783123947368421]},{\"element\":\"O\",\"label\":\"O410\",\"location\":[1.5952380526315788,-8.893961947368421,-1.227195947368421]},{\"element\":\"H\",\"label\":\"H411\",\"location\":[-1.783123947368421,8.706076052631579,-1.783123947368421]},{\"element\":\"O\",\"label\":\"O412\",\"location\":[-1.227195947368421,9.262004052631578,-1.227195947368421]},{\"element\":\"H\",\"label\":\"H413\",\"location\":[-1.783123947368421,-8.338033947368421,2.1511660526315786]},{\"element\":\"O\",\"label\":\"O414\",\"location\":[-1.227195947368421,-8.893961947368421,1.5952380526315788]},{\"element\":\"H\",\"label\":\"H415\",\"location\":[2.1511660526315786,8.706076052631579,2.1511660526315786]},{\"element\":\"O\",\"label\":\"O416\",\"location\":[1.5952380526315788,9.262004052631578,1.5952380526315788]},{\"element\":\"H\",\"label\":\"H417\",\"location\":[-1.783123947368421,2.151166052631579,-8.338033947368421]},{\"element\":\"O\",\"label\":\"O418\",\"location\":[-1.227195947368421,1.5952380526315788,-8.893961947368421]},{\"element\":\"H\",\"label\":\"H419\",\"location\":[-1.783123947368421,-1.783123947368421,8.706076052631579]},{\"element\":\"O\",\"label\":\"O420\",\"location\":[-1.227195947368421,-1.227195947368421,9.262004052631578]},{\"element\":\"H\",\"label\":\"H421\",\"location\":[2.1511660526315786,-1.783123947368421,-8.338033947368421]},{\"element\":\"O\",\"label\":\"O422\",\"location\":[1.5952380526315788,-1.227195947368421,-8.893961947368421]},{\"element\":\"H\",\"label\":\"H423\",\"location\":[2.1511660526315786,2.151166052631579,8.706076052631579]},{\"element\":\"O\",\"label\":\"O424\",\"location\":[1.5952380526315788,1.5952380526315788,9.262004052631578]},{\"element\":\"H\",\"label\":\"H425\",\"location\":[-8.338033947368421,-1.783123947368421,2.1511660526315786]},{\"element\":\"O\",\"label\":\"O426\",\"location\":[-8.893961947368421,-1.227195947368421,1.5952380526315788]},{\"element\":\"H\",\"label\":\"H427\",\"location\":[-8.338033947368421,8.706076052631579,-8.338033947368421]},{\"element\":\"O\",\"label\":\"O428\",\"location\":[-8.893961947368421,9.262004052631578,-8.893961947368421]},{\"element\":\"H\",\"label\":\"H429\",\"location\":[8.706076052631579,-1.783123947368421,-1.783123947368421]},{\"element\":\"O\",\"label\":\"O430\",\"location\":[9.262004052631578,-1.227195947368421,-1.227195947368421]},{\"element\":\"H\",\"label\":\"H431\",\"location\":[8.706076052631579,8.706076052631579,8.706076052631579]},{\"element\":\"O\",\"label\":\"O432\",\"location\":[9.262004052631578,9.262004052631578,9.262004052631578]},{\"element\":\"H\",\"label\":\"H433\",\"location\":[-8.338033947368421,2.151166052631579,-1.783123947368421]},{\"element\":\"O\",\"label\":\"O434\",\"location\":[-8.893961947368421,1.5952380526315788,-1.227195947368421]},{\"element\":\"H\",\"label\":\"H435\",\"location\":[-8.338033947368421,-8.338033947368421,8.706076052631579]},{\"element\":\"O\",\"label\":\"O436\",\"location\":[-8.893961947368421,-8.893961947368421,9.262004052631578]},{\"element\":\"H\",\"label\":\"H437\",\"location\":[8.706076052631579,2.151166052631579,2.1511660526315786]},{\"element\":\"O\",\"label\":\"O438\",\"location\":[9.262004052631578,1.5952380526315788,1.5952380526315788]},{\"element\":\"H\",\"label\":\"H439\",\"location\":[8.706076052631579,-8.338033947368421,-8.338033947368421]},{\"element\":\"O\",\"label\":\"O440\",\"location\":[9.262004052631578,-8.893961947368421,-8.893961947368421]},{\"element\":\"O\",\"label\":\"O441\",\"location\":[-0.8529409473684211,-9.26821694736842,-0.8529409473684212]},{\"element\":\"O\",\"label\":\"O442\",\"location\":[1.2209830526315788,9.63625905263158,-0.8529409473684212]},{\"element\":\"O\",\"label\":\"O443\",\"location\":[-9.26821694736842,-0.8529409473684211,-0.8529409473684212]},{\"element\":\"O\",\"label\":\"O444\",\"location\":[1.2209830526315788,-9.26821694736842,1.2209830526315788]},{\"element\":\"O\",\"label\":\"O445\",\"location\":[-9.26821694736842,-9.26821694736842,-9.26821694736842]},{\"element\":\"O\",\"label\":\"O446\",\"location\":[-0.8529409473684211,9.63625905263158,1.2209830526315788]},{\"element\":\"O\",\"label\":\"O447\",\"location\":[-0.8529409473684211,-0.8529409473684211,-9.26821694736842]},{\"element\":\"O\",\"label\":\"O448\",\"location\":[-0.8529409473684211,1.2209830526315788,9.63625905263158]},{\"element\":\"O\",\"label\":\"O449\",\"location\":[1.2209830526315788,1.2209830526315788,-9.26821694736842]},{\"element\":\"O\",\"label\":\"O450\",\"location\":[1.2209830526315788,-0.8529409473684211,9.63625905263158]},{\"element\":\"O\",\"label\":\"O451\",\"location\":[-9.26821694736842,9.63625905263158,9.63625905263158]},{\"element\":\"O\",\"label\":\"O452\",\"location\":[9.63625905263158,-0.8529409473684211,1.2209830526315788]},{\"element\":\"O\",\"label\":\"O453\",\"location\":[9.63625905263158,9.63625905263158,-9.26821694736842]},{\"element\":\"O\",\"label\":\"O454\",\"location\":[-9.26821694736842,1.2209830526315788,1.2209830526315788]},{\"element\":\"O\",\"label\":\"O455\",\"location\":[9.63625905263158,1.2209830526315788,-0.8529409473684212]},{\"element\":\"O\",\"label\":\"O456\",\"location\":[9.63625905263158,-9.26821694736842,9.63625905263158]}],\"bonds\":[{\"atoms\":[386,272],\"order\":1},{\"atoms\":[386,444],\"order\":1},{\"atoms\":[386,32],\"order\":1},{\"atoms\":[389,257],\"order\":1},{\"atoms\":[389,41],\"order\":1},{\"atoms\":[390,427],\"order\":1},{\"atoms\":[406,116],\"order\":1},{\"atoms\":[406,446],\"order\":1},{\"atoms\":[406,188],\"order\":1},{\"atoms\":[405,439],\"order\":1},{\"atoms\":[402,128],\"order\":1},{\"atoms\":[402,448],\"order\":1},{\"atoms\":[402,421],\"order\":1},{\"atoms\":[402,176],\"order\":1},{\"atoms\":[401,125],\"order\":1},{\"atoms\":[401,173],\"order\":1},{\"atoms\":[385,269],\"order\":1},{\"atoms\":[385,448],\"order\":1},{\"atoms\":[385,417],\"order\":1},{\"atoms\":[385,29],\"order\":1},{\"atoms\":[269,378],\"order\":1},{\"atoms\":[272,340],\"order\":1},{\"atoms\":[260,334],\"order\":2},{\"atoms\":[257,336],\"order\":1},{\"atoms\":[113,334],\"order\":1},{\"atoms\":[116,336],\"order\":1},{\"atoms\":[125,340],\"order\":1},{\"atoms\":[128,378],\"order\":1},{\"atoms\":[334,335],\"order\":1},{\"atoms\":[336,337],\"order\":1},{\"atoms\":[340,341],\"order\":1},{\"atoms\":[378,379],\"order\":1},{\"atoms\":[335,112],\"order\":2},{\"atoms\":[335,259],\"order\":1},{\"atoms\":[379,268],\"order\":2},{\"atoms\":[379,127],\"order\":1},{\"atoms\":[337,115],\"order\":2},{\"atoms\":[337,256],\"order\":1},{\"atoms\":[341,271],\"order\":2},{\"atoms\":[341,124],\"order\":1},{\"atoms\":[255,256],\"order\":1},{\"atoms\":[114,115],\"order\":1},{\"atoms\":[123,124],\"order\":1},{\"atoms\":[267,268],\"order\":1},{\"atoms\":[111,112],\"order\":1},{\"atoms\":[126,127],\"order\":1},{\"atoms\":[270,271],\"order\":1},{\"atoms\":[258,259],\"order\":1},{\"atoms\":[115,271],\"order\":1},{\"atoms\":[112,268],\"order\":1},{\"atoms\":[256,124],\"order\":2},{\"atoms\":[259,127],\"order\":2},{\"atoms\":[444,395],\"order\":1},{\"atoms\":[446,392],\"order\":1},{\"atoms\":[421,420],\"order\":1},{\"atoms\":[427,426],\"order\":1},{\"atoms\":[417,416],\"order\":1},{\"atoms\":[439,438],\"order\":1},{\"atoms\":[173,320],\"order\":1},{\"atoms\":[188,308],\"order\":1},{\"atoms\":[44,306],\"order\":2},{\"atoms\":[41,304],\"order\":1},{\"atoms\":[32,300],\"order\":1},{\"atoms\":[176,316],\"order\":1},{\"atoms\":[29,364],\"order\":1},{\"atoms\":[185,358],\"order\":2},{\"atoms\":[392,218],\"order\":1},{\"atoms\":[392,194],\"order\":1},{\"atoms\":[392,74],\"order\":1},{\"atoms\":[392,50],\"order\":1},{\"atoms\":[395,227],\"order\":1},{\"atoms\":[395,83],\"order\":1},{\"atoms\":[174,175],\"order\":1},{\"atoms\":[183,184],\"order\":1},{\"atoms\":[186,187],\"order\":1},{\"atoms\":[171,172],\"order\":1},{\"atoms\":[27,28],\"order\":1},{\"atoms\":[42,43],\"order\":1},{\"atoms\":[30,31],\"order\":1},{\"atoms\":[39,40],\"order\":1},{\"atoms\":[300,227],\"order\":1},{\"atoms\":[300,301],\"order\":1},{\"atoms\":[358,59],\"order\":1},{\"atoms\":[358,359],\"order\":1},{\"atoms\":[308,50],\"order\":1},{\"atoms\":[308,309],\"order\":1},{\"atoms\":[364,218],\"order\":1},{\"atoms\":[364,365],\"order\":1},{\"atoms\":[306,203],\"order\":1},{\"atoms\":[306,307],\"order\":1},{\"atoms\":[316,74],\"order\":1},{\"atoms\":[316,317],\"order\":1},{\"atoms\":[320,83],\"order\":1},{\"atoms\":[320,321],\"order\":1},{\"atoms\":[304,194],\"order\":1},{\"atoms\":[304,305],\"order\":1},{\"atoms\":[40,305],\"order\":2},{\"atoms\":[40,232],\"order\":1},{\"atoms\":[187,309],\"order\":2},{\"atoms\":[187,91],\"order\":1},{\"atoms\":[31,301],\"order\":2},{\"atoms\":[31,211],\"order\":1},{\"atoms\":[28,365],\"order\":2},{\"atoms\":[28,208],\"order\":1},{\"atoms\":[175,317],\"order\":2},{\"atoms\":[175,67],\"order\":1},{\"atoms\":[43,307],\"order\":2},{\"atoms\":[43,235],\"order\":1},{\"atoms\":[184,359],\"order\":2},{\"atoms\":[184,88],\"order\":1},{\"atoms\":[172,321],\"order\":2},{\"atoms\":[172,64],\"order\":1},{\"atoms\":[305,193],\"order\":1},{\"atoms\":[307,202],\"order\":1},{\"atoms\":[365,217],\"order\":1},{\"atoms\":[301,226],\"order\":1},{\"atoms\":[309,49],\"order\":1},{\"atoms\":[359,58],\"order\":1},{\"atoms\":[321,82],\"order\":1},{\"atoms\":[317,73],\"order\":1},{\"atoms\":[234,235],\"order\":1},{\"atoms\":[63,64],\"order\":1},{\"atoms\":[231,232],\"order\":1},{\"atoms\":[90,91],\"order\":1},{\"atoms\":[210,211],\"order\":1},{\"atoms\":[87,88],\"order\":1},{\"atoms\":[66,67],\"order\":1},{\"atoms\":[207,208],\"order\":1},{\"atoms\":[235,371],\"order\":2},{\"atoms\":[67,351],\"order\":2},{\"atoms\":[64,315],\"order\":2},{\"atoms\":[211,297],\"order\":2},{\"atoms\":[208,293],\"order\":2},{\"atoms\":[88,325],\"order\":2},{\"atoms\":[91,327],\"order\":2},{\"atoms\":[232,289],\"order\":2},{\"atoms\":[82,81],\"order\":1},{\"atoms\":[82,166],\"order\":2},{\"atoms\":[49,48],\"order\":1},{\"atoms\":[49,145],\"order\":2},{\"atoms\":[226,225],\"order\":1},{\"atoms\":[226,22],\"order\":2},{\"atoms\":[58,57],\"order\":1},{\"atoms\":[58,154],\"order\":2},{\"atoms\":[217,216],\"order\":1},{\"atoms\":[217,13],\"order\":2},{\"atoms\":[193,192],\"order\":1},{\"atoms\":[193,1],\"order\":2},{\"atoms\":[73,72],\"order\":1},{\"atoms\":[73,157],\"order\":2},{\"atoms\":[202,201],\"order\":1},{\"atoms\":[202,10],\"order\":2},{\"atoms\":[315,166],\"order\":1},{\"atoms\":[315,314],\"order\":1},{\"atoms\":[327,145],\"order\":1},{\"atoms\":[327,326],\"order\":1},{\"atoms\":[325,154],\"order\":1},{\"atoms\":[325,324],\"order\":1},{\"atoms\":[289,1],\"order\":1},{\"atoms\":[289,288],\"order\":1},{\"atoms\":[293,13],\"order\":1},{\"atoms\":[293,292],\"order\":1},{\"atoms\":[351,157],\"order\":1},{\"atoms\":[351,350],\"order\":1},{\"atoms\":[371,10],\"order\":1},{\"atoms\":[371,370],\"order\":1},{\"atoms\":[297,22],\"order\":1},{\"atoms\":[297,296],\"order\":1},{\"atoms\":[22,21],\"order\":1},{\"atoms\":[166,165],\"order\":1},{\"atoms\":[1,0],\"order\":1},{\"atoms\":[10,9],\"order\":1},{\"atoms\":[157,156],\"order\":1},{\"atoms\":[154,153],\"order\":1},{\"atoms\":[13,12],\"order\":1},{\"atoms\":[145,144],\"order\":1},{\"atoms\":[236,370],\"order\":2},{\"atoms\":[68,350],\"order\":2},{\"atoms\":[212,296],\"order\":1},{\"atoms\":[212,398],\"order\":1},{\"atoms\":[233,288],\"order\":1},{\"atoms\":[233,397],\"order\":1},{\"atoms\":[89,324],\"order\":2},{\"atoms\":[92,326],\"order\":1},{\"atoms\":[92,398],\"order\":1},{\"atoms\":[65,314],\"order\":1},{\"atoms\":[65,397],\"order\":1},{\"atoms\":[209,292],\"order\":2},{\"atoms\":[296,23],\"order\":2},{\"atoms\":[292,14],\"order\":1},{\"atoms\":[314,167],\"order\":2},{\"atoms\":[326,146],\"order\":2},{\"atoms\":[324,155],\"order\":1},{\"atoms\":[370,11],\"order\":1},{\"atoms\":[350,158],\"order\":1},{\"atoms\":[288,2],\"order\":2},{\"atoms\":[408,409],\"order\":1},{\"atoms\":[410,411],\"order\":1},{\"atoms\":[428,429],\"order\":1},{\"atoms\":[432,433],\"order\":1},{\"atoms\":[409,403],\"order\":1},{\"atoms\":[429,404],\"order\":1},{\"atoms\":[411,388],\"order\":1},{\"atoms\":[433,387],\"order\":1},{\"atoms\":[440,384],\"order\":1},{\"atoms\":[440,407],\"order\":1},{\"atoms\":[441,388],\"order\":1},{\"atoms\":[442,391],\"order\":1},{\"atoms\":[442,400],\"order\":1},{\"atoms\":[454,404],\"order\":1},{\"atoms\":[250,106],\"order\":2},{\"atoms\":[250,249],\"order\":1},{\"atoms\":[250,343],\"order\":1},{\"atoms\":[241,97],\"order\":2},{\"atoms\":[241,240],\"order\":1},{\"atoms\":[241,347],\"order\":1},{\"atoms\":[286,142],\"order\":1},{\"atoms\":[286,285],\"order\":1},{\"atoms\":[286,329],\"order\":2},{\"atoms\":[142,141],\"order\":1},{\"atoms\":[142,347],\"order\":2},{\"atoms\":[133,277],\"order\":1},{\"atoms\":[133,132],\"order\":1},{\"atoms\":[133,343],\"order\":2},{\"atoms\":[106,105],\"order\":1},{\"atoms\":[106,381],\"order\":1},{\"atoms\":[97,96],\"order\":1},{\"atoms\":[97,329],\"order\":1},{\"atoms\":[277,276],\"order\":1},{\"atoms\":[277,381],\"order\":2},{\"atoms\":[329,328],\"order\":1},{\"atoms\":[347,346],\"order\":1},{\"atoms\":[381,380],\"order\":1},{\"atoms\":[343,342],\"order\":1},{\"atoms\":[328,287],\"order\":1},{\"atoms\":[328,98],\"order\":1},{\"atoms\":[342,251],\"order\":2},{\"atoms\":[342,134],\"order\":1},{\"atoms\":[380,278],\"order\":1},{\"atoms\":[380,107],\"order\":2},{\"atoms\":[346,143],\"order\":1},{\"atoms\":[346,242],\"order\":1},{\"atoms\":[278,388],\"order\":1},{\"atoms\":[287,391],\"order\":1},{\"atoms\":[143,407],\"order\":1},{\"atoms\":[98,400],\"order\":1},{\"atoms\":[134,404],\"order\":1},{\"atoms\":[242,384],\"order\":1},{\"atoms\":[384,266],\"order\":1},{\"atoms\":[384,26],\"order\":1},{\"atoms\":[388,254],\"order\":1},{\"atoms\":[388,445],\"order\":1},{\"atoms\":[388,38],\"order\":1},{\"atoms\":[387,275],\"order\":1},{\"atoms\":[387,453],\"order\":1},{\"atoms\":[387,35],\"order\":1},{\"atoms\":[400,122],\"order\":1},{\"atoms\":[400,170],\"order\":1},{\"atoms\":[403,131],\"order\":1},{\"atoms\":[403,443],\"order\":1},{\"atoms\":[403,179],\"order\":1},{\"atoms\":[404,110],\"order\":1},{\"atoms\":[404,451],\"order\":1},{\"atoms\":[404,182],\"order\":1},{\"atoms\":[254,374],\"order\":1},{\"atoms\":[263,332],\"order\":2},{\"atoms\":[110,332],\"order\":1},{\"atoms\":[266,376],\"order\":1},{\"atoms\":[131,376],\"order\":1},{\"atoms\":[275,338],\"order\":1},{\"atoms\":[119,374],\"order\":2},{\"atoms\":[122,338],\"order\":1},{\"atoms\":[338,339],\"order\":1},{\"atoms\":[332,333],\"order\":1},{\"atoms\":[376,377],\"order\":1},{\"atoms\":[374,375],\"order\":1},{\"atoms\":[377,265],\"order\":2},{\"atoms\":[377,130],\"order\":1},{\"atoms\":[375,253],\"order\":2},{\"atoms\":[375,118],\"order\":1},{\"atoms\":[333,262],\"order\":1},{\"atoms\":[333,109],\"order\":2},{\"atoms\":[339,121],\"order\":2},{\"atoms\":[339,274],\"order\":1},{\"atoms\":[117,118],\"order\":1},{\"atoms\":[129,130],\"order\":1},{\"atoms\":[120,121],\"order\":1},{\"atoms\":[273,274],\"order\":1},{\"atoms\":[264,265],\"order\":1},{\"atoms\":[261,262],\"order\":1},{\"atoms\":[252,253],\"order\":1},{\"atoms\":[108,109],\"order\":1},{\"atoms\":[262,130],\"order\":2},{\"atoms\":[109,265],\"order\":1},{\"atoms\":[121,253],\"order\":1},{\"atoms\":[118,274],\"order\":2},{\"atoms\":[443,393],\"order\":1},{\"atoms\":[453,394],\"order\":1},{\"atoms\":[415,414],\"order\":1},{\"atoms\":[425,424],\"order\":1},{\"atoms\":[425,394],\"order\":1},{\"atoms\":[413,412],\"order\":1},{\"atoms\":[413,393],\"order\":1},{\"atoms\":[437,436],\"order\":1},{\"atoms\":[26,298],\"order\":1},{\"atoms\":[38,302],\"order\":1},{\"atoms\":[191,310],\"order\":2},{\"atoms\":[47,360],\"order\":2},{\"atoms\":[170,354],\"order\":1},{\"atoms\":[35,366],\"order\":1},{\"atoms\":[182,356],\"order\":1},{\"atoms\":[179,318],\"order\":1},{\"atoms\":[394,80],\"order\":1},{\"atoms\":[394,224],\"order\":1},{\"atoms\":[393,77],\"order\":1},{\"atoms\":[393,221],\"order\":1},{\"atoms\":[189,190],\"order\":1},{\"atoms\":[24,25],\"order\":1},{\"atoms\":[180,181],\"order\":1},{\"atoms\":[33,34],\"order\":1},{\"atoms\":[177,178],\"order\":1},{\"atoms\":[168,169],\"order\":1},{\"atoms\":[36,37],\"order\":1},{\"atoms\":[45,46],\"order\":1},{\"atoms\":[310,53],\"order\":1},{\"atoms\":[310,311],\"order\":1},{\"atoms\":[360,200],\"order\":1},{\"atoms\":[360,361],\"order\":1},{\"atoms\":[318,77],\"order\":1},{\"atoms\":[318,319],\"order\":1},{\"atoms\":[366,224],\"order\":1},{\"atoms\":[366,367],\"order\":1},{\"atoms\":[356,56],\"order\":2},{\"atoms\":[356,357],\"order\":1},{\"atoms\":[354,80],\"order\":1},{\"atoms\":[354,355],\"order\":1},{\"atoms\":[302,197],\"order\":2},{\"atoms\":[302,303],\"order\":1},{\"atoms\":[298,221],\"order\":1},{\"atoms\":[298,299],\"order\":1},{\"atoms\":[169,355],\"order\":2},{\"atoms\":[169,61],\"order\":1},{\"atoms\":[46,361],\"order\":2},{\"atoms\":[46,238],\"order\":1},{\"atoms\":[34,367],\"order\":2},{\"atoms\":[34,214],\"order\":1},{\"atoms\":[181,357],\"order\":2},{\"atoms\":[181,85],\"order\":1},{\"atoms\":[37,303],\"order\":2},{\"atoms\":[37,229],\"order\":1},{\"atoms\":[190,311],\"order\":2},{\"atoms\":[190,94],\"order\":1},{\"atoms\":[178,319],\"order\":2},{\"atoms\":[178,70],\"order\":1},{\"atoms\":[25,299],\"order\":2},{\"atoms\":[25,205],\"order\":1},{\"atoms\":[355,79],\"order\":1},{\"atoms\":[357,55],\"order\":1},{\"atoms\":[361,199],\"order\":1},{\"atoms\":[319,76],\"order\":1},{\"atoms\":[367,223],\"order\":1},{\"atoms\":[311,52],\"order\":1},{\"atoms\":[303,196],\"order\":1},{\"atoms\":[299,220],\"order\":1},{\"atoms\":[228,229],\"order\":1},{\"atoms\":[237,238],\"order\":1},{\"atoms\":[60,61],\"order\":1},{\"atoms\":[69,70],\"order\":1},{\"atoms\":[213,214],\"order\":1},{\"atoms\":[93,94],\"order\":1},{\"atoms\":[204,205],\"order\":1},{\"atoms\":[84,85],\"order\":1},{\"atoms\":[229,369],\"order\":2},{\"atoms\":[238,291],\"order\":2},{\"atoms\":[214,295],\"order\":2},{\"atoms\":[94,349],\"order\":2},{\"atoms\":[205,363],\"order\":2},{\"atoms\":[85,323],\"order\":2},{\"atoms\":[61,313],\"order\":2},{\"atoms\":[70,353],\"order\":2},{\"atoms\":[199,198],\"order\":1},{\"atoms\":[199,7],\"order\":2},{\"atoms\":[223,222],\"order\":1},{\"atoms\":[223,19],\"order\":2},{\"atoms\":[55,54],\"order\":1},{\"atoms\":[55,151],\"order\":2},{\"atoms\":[196,195],\"order\":1},{\"atoms\":[196,4],\"order\":2},{\"atoms\":[52,51],\"order\":1},{\"atoms\":[52,148],\"order\":2},{\"atoms\":[79,78],\"order\":1},{\"atoms\":[79,163],\"order\":2},{\"atoms\":[76,75],\"order\":1},{\"atoms\":[76,160],\"order\":2},{\"atoms\":[220,219],\"order\":1},{\"atoms\":[220,16],\"order\":2},{\"atoms\":[369,4],\"order\":1},{\"atoms\":[369,368],\"order\":1},{\"atoms\":[363,16],\"order\":1},{\"atoms\":[363,362],\"order\":1},{\"atoms\":[323,151],\"order\":1},{\"atoms\":[323,322],\"order\":1},{\"atoms\":[353,160],\"order\":1},{\"atoms\":[353,352],\"order\":1},{\"atoms\":[313,163],\"order\":1},{\"atoms\":[313,312],\"order\":1},{\"atoms\":[295,19],\"order\":1},{\"atoms\":[295,294],\"order\":1},{\"atoms\":[349,148],\"order\":1},{\"atoms\":[349,348],\"order\":1},{\"atoms\":[291,7],\"order\":1},{\"atoms\":[291,290],\"order\":1},{\"atoms\":[148,147],\"order\":1},{\"atoms\":[151,150],\"order\":1},{\"atoms\":[160,159],\"order\":1},{\"atoms\":[19,18],\"order\":1},{\"atoms\":[16,15],\"order\":1},{\"atoms\":[163,162],\"order\":1},{\"atoms\":[4,3],\"order\":1},{\"atoms\":[7,6],\"order\":1},{\"atoms\":[86,322],\"order\":1},{\"atoms\":[86,396],\"order\":1},{\"atoms\":[62,312],\"order\":1},{\"atoms\":[62,396],\"order\":1},{\"atoms\":[230,368],\"order\":1},{\"atoms\":[230,396],\"order\":1},{\"atoms\":[206,362],\"order\":1},{\"atoms\":[206,396],\"order\":1},{\"atoms\":[95,348],\"order\":2},{\"atoms\":[215,294],\"order\":2},{\"atoms\":[71,352],\"order\":2},{\"atoms\":[239,290],\"order\":2},{\"atoms\":[348,149],\"order\":1},{\"atoms\":[290,8],\"order\":1},{\"atoms\":[294,20],\"order\":1},{\"atoms\":[312,164],\"order\":2},{\"atoms\":[352,161],\"order\":1},{\"atoms\":[368,5],\"order\":2},{\"atoms\":[322,152],\"order\":2},{\"atoms\":[362,17],\"order\":2},{\"atoms\":[396,447],\"order\":1},{\"atoms\":[396,449],\"order\":1},{\"atoms\":[399,435],\"order\":1},{\"atoms\":[430,431],\"order\":1},{\"atoms\":[434,435],\"order\":1},{\"atoms\":[418,419],\"order\":1},{\"atoms\":[422,423],\"order\":1},{\"atoms\":[100,244],\"order\":2},{\"atoms\":[100,99],\"order\":1},{\"atoms\":[100,331],\"order\":1},{\"atoms\":[283,139],\"order\":1},{\"atoms\":[283,282],\"order\":1},{\"atoms\":[283,331],\"order\":2},{\"atoms\":[103,247],\"order\":2},{\"atoms\":[103,102],\"order\":1},{\"atoms\":[103,383],\"order\":1},{\"atoms\":[280,136],\"order\":1},{\"atoms\":[280,279],\"order\":1},{\"atoms\":[280,383],\"order\":2},{\"atoms\":[136,135],\"order\":1},{\"atoms\":[136,345],\"order\":2},{\"atoms\":[247,246],\"order\":1},{\"atoms\":[247,345],\"order\":1},{\"atoms\":[139,138],\"order\":1},{\"atoms\":[139,373],\"order\":2},{\"atoms\":[244,243],\"order\":1},{\"atoms\":[244,373],\"order\":1},{\"atoms\":[331,330],\"order\":1},{\"atoms\":[345,344],\"order\":1},{\"atoms\":[383,382],\"order\":1},{\"atoms\":[373,372],\"order\":1},{\"atoms\":[372,245],\"order\":2},{\"atoms\":[372,140],\"order\":1},{\"atoms\":[344,137],\"order\":2},{\"atoms\":[344,248],\"order\":1},{\"atoms\":[330,101],\"order\":2},{\"atoms\":[330,284],\"order\":1},{\"atoms\":[382,104],\"order\":2},{\"atoms\":[382,281],\"order\":1}],\"density\":1.1972127230726541,\"formula\":\"C24H14O16Zr3\",\"molecular_weight\":838.4559774999977,\"unitcell\":[[20.9784,0.0,0.0],[0.0,20.9784,0.0],[1.9721522630525295e-31,0.0,20.9784]],\"units\":{\"density\":\"kg / L\",\"molecular_weight\":\"g / mol\"}});\n",
       "\n",
       "               $d.resizable({\n",
       "                   aspectRatio: 800 / 800,\n",
       "                   resize: function (evt, ui) {\n",
       "                       $d.imolecule.renderer.setSize(ui.size.width,\n",
       "                                                     ui.size.height);\n",
       "                   }\n",
       "               });\n",
       "           });\n",
       "           </script>"
      ],
      "text/plain": [
       "<IPython.core.display.HTML object>"
      ]
     },
     "metadata": {},
     "output_type": "display_data"
    }
   ],
   "source": [
    "imolecule.draw(uio66, format='json', size=(800, 800))"
   ]
  },
  {
   "cell_type": "code",
   "execution_count": 23,
   "metadata": {},
   "outputs": [
    {
     "data": {
      "application/json": {
       "Software versions": [
        {
         "module": "Python",
         "version": "3.6.1 64bit [GCC 4.4.7 20120313 (Red Hat 4.4.7-1)]"
        },
        {
         "module": "IPython",
         "version": "6.0.0"
        },
        {
         "module": "OS",
         "version": "Linux 3.16.0 4 amd64 x86_64 with debian 8.7"
        },
        {
         "module": "numpy",
         "version": "1.12.1"
        },
        {
         "module": "ase",
         "version": "3.13.0"
        },
        {
         "module": "imolecule",
         "version": "0.1.13"
        }
       ]
      },
      "text/html": [
       "<table><tr><th>Software</th><th>Version</th></tr><tr><td>Python</td><td>3.6.1 64bit [GCC 4.4.7 20120313 (Red Hat 4.4.7-1)]</td></tr><tr><td>IPython</td><td>6.0.0</td></tr><tr><td>OS</td><td>Linux 3.16.0 4 amd64 x86_64 with debian 8.7</td></tr><tr><td>numpy</td><td>1.12.1</td></tr><tr><td>ase</td><td>3.13.0</td></tr><tr><td>imolecule</td><td>0.1.13</td></tr><tr><td colspan='2'>Thu May 04 17:26:55 2017 CEST</td></tr></table>"
      ],
      "text/latex": [
       "\\begin{tabular}{|l|l|}\\hline\n",
       "{\\bf Software} & {\\bf Version} \\\\ \\hline\\hline\n",
       "Python & 3.6.1 64bit [GCC 4.4.7 20120313 (Red Hat 4.4.7-1)] \\\\ \\hline\n",
       "IPython & 6.0.0 \\\\ \\hline\n",
       "OS & Linux 3.16.0 4 amd64 x86\\_64 with debian 8.7 \\\\ \\hline\n",
       "numpy & 1.12.1 \\\\ \\hline\n",
       "ase & 3.13.0 \\\\ \\hline\n",
       "imolecule & 0.1.13 \\\\ \\hline\n",
       "\\hline \\multicolumn{2}{|l|}{Thu May 04 17:26:55 2017 CEST} \\\\ \\hline\n",
       "\\end{tabular}\n"
      ],
      "text/plain": [
       "Software versions\n",
       "Python 3.6.1 64bit [GCC 4.4.7 20120313 (Red Hat 4.4.7-1)]\n",
       "IPython 6.0.0\n",
       "OS Linux 3.16.0 4 amd64 x86_64 with debian 8.7\n",
       "numpy 1.12.1\n",
       "ase 3.13.0\n",
       "imolecule 0.1.13\n",
       "Thu May 04 17:26:55 2017 CEST"
      ]
     },
     "execution_count": 23,
     "metadata": {},
     "output_type": "execute_result"
    }
   ],
   "source": [
    "%version_information numpy, ase, imolecule"
   ]
  }
 ],
 "metadata": {
  "anaconda-cloud": {},
  "kernelspec": {
   "display_name": "Python 3",
   "language": "python",
   "name": "python3"
  },
  "language_info": {
   "codemirror_mode": {
    "name": "ipython",
    "version": 3
   },
   "file_extension": ".py",
   "mimetype": "text/x-python",
   "name": "python",
   "nbconvert_exporter": "python",
   "pygments_lexer": "ipython3",
   "version": "3.6.1"
  }
 },
 "nbformat": 4,
 "nbformat_minor": 1
}
