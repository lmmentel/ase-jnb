{
 "cells": [
  {
   "cell_type": "markdown",
   "metadata": {},
   "source": [
    "# chemview"
   ]
  },
  {
   "cell_type": "code",
   "execution_count": 40,
   "metadata": {
    "collapsed": true
   },
   "outputs": [],
   "source": [
    "def atoms_to_chemview(atoms, infer_bonds=True):\n",
    "    '''\n",
    "    Convert ase.Atoms instance into a dict of kwargs for the chemview.MolecularViewer\n",
    "    \n",
    "    Args:\n",
    "        atoms       : ase.Atoms\n",
    "        infer_bonds : bool\n",
    "            Get the list of indices of connected atoms, (requires pybel)\n",
    "            \n",
    "    Returns:\n",
    "        data : dict\n",
    "            A dict with kwargs that can be passed to chemview.MolecularViewer\n",
    "    '''\n",
    "    \n",
    "    data = dict()\n",
    "    # convert the coordinates to nanometers\n",
    "    data['coordinates'] = atoms.get_positions() / 10.0\n",
    "    data['topology'] = dict()\n",
    "    data['topology']['atom_types'] = atoms.get_chemical_symbols()\n",
    "    if infer_bonds:\n",
    "        \n",
    "        import pybel\n",
    "        ob = pybel.ob\n",
    "\n",
    "        obmol = ob.OBMol()\n",
    "        obmol.BeginModify()\n",
    "\n",
    "        for atom in atoms:\n",
    "            obatom = obmol.NewAtom()\n",
    "            obatom.SetAtomicNum(int(atom.number))\n",
    "            obatom.SetVector(*atom.position.tolist())\n",
    "\n",
    "        obmol.ConnectTheDots()\n",
    "        obmol.PerceiveBondOrders()\n",
    "        \n",
    "        bonds = [[b.GetBeginAtom().GetIndex(), b.GetEndAtom().GetIndex()]\n",
    "                 for b in ob.OBMolBondIter(obmol)]\n",
    "        data['topology']['bonds'] = bonds\n",
    "\n",
    "    return data"
   ]
  },
  {
   "cell_type": "code",
   "execution_count": 34,
   "metadata": {
    "collapsed": true
   },
   "outputs": [],
   "source": [
    "from  ase.build import molecule"
   ]
  },
  {
   "cell_type": "code",
   "execution_count": 38,
   "metadata": {},
   "outputs": [
    {
     "name": "stderr",
     "output_type": "stream",
     "text": [
      "/home/lmentel/anaconda3/envs/chem/lib/python3.6/site-packages/traitlets/traitlets.py:567: FutureWarning: comparison to `None` will result in an elementwise object comparison in the future.\n",
      "  silent = bool(old_value == new_value)\n"
     ]
    },
    {
     "data": {
      "application/vnd.jupyter.widget-view+json": {
       "model_id": "26610bea5ba94fb0804eec0c3a702e84"
      }
     },
     "metadata": {},
     "output_type": "display_data"
    }
   ],
   "source": [
    "tbut = molecule('trans-butane')\n",
    "mv = MolecularViewer(**atoms_to_chemview(tbut), width=600, height=600)\n",
    "mv.ball_and_sticks()\n",
    "mv"
   ]
  },
  {
   "cell_type": "code",
   "execution_count": 36,
   "metadata": {},
   "outputs": [
    {
     "name": "stderr",
     "output_type": "stream",
     "text": [
      "/home/lmentel/anaconda3/envs/chem/lib/python3.6/site-packages/traitlets/traitlets.py:567: FutureWarning: comparison to `None` will result in an elementwise object comparison in the future.\n",
      "  silent = bool(old_value == new_value)\n"
     ]
    },
    {
     "data": {
      "application/vnd.jupyter.widget-view+json": {
       "model_id": "8f4a3f19c2d044f2a03b0143482a9f1c"
      }
     },
     "metadata": {},
     "output_type": "display_data"
    }
   ],
   "source": [
    "benzene = molecule('C6H6')\n",
    "mv = MolecularViewer(**atoms_to_chemview(benzene))\n",
    "mv.ball_and_sticks()\n",
    "mv"
   ]
  },
  {
   "cell_type": "code",
   "execution_count": 39,
   "metadata": {},
   "outputs": [
    {
     "data": {
      "application/json": {
       "Software versions": [
        {
         "module": "Python",
         "version": "3.6.1 64bit [GCC 4.4.7 20120313 (Red Hat 4.4.7-1)]"
        },
        {
         "module": "IPython",
         "version": "6.0.0"
        },
        {
         "module": "OS",
         "version": "Linux 3.16.0 4 amd64 x86_64 with debian 8.8"
        },
        {
         "module": "numpy",
         "version": "1.12.1"
        },
        {
         "module": "chemview",
         "version": "0.7.0.dev"
        }
       ]
      },
      "text/html": [
       "<table><tr><th>Software</th><th>Version</th></tr><tr><td>Python</td><td>3.6.1 64bit [GCC 4.4.7 20120313 (Red Hat 4.4.7-1)]</td></tr><tr><td>IPython</td><td>6.0.0</td></tr><tr><td>OS</td><td>Linux 3.16.0 4 amd64 x86_64 with debian 8.8</td></tr><tr><td>numpy</td><td>1.12.1</td></tr><tr><td>chemview</td><td>0.7.0.dev</td></tr><tr><td colspan='2'>Tue May 30 16:48:23 2017 CEST</td></tr></table>"
      ],
      "text/latex": [
       "\\begin{tabular}{|l|l|}\\hline\n",
       "{\\bf Software} & {\\bf Version} \\\\ \\hline\\hline\n",
       "Python & 3.6.1 64bit [GCC 4.4.7 20120313 (Red Hat 4.4.7-1)] \\\\ \\hline\n",
       "IPython & 6.0.0 \\\\ \\hline\n",
       "OS & Linux 3.16.0 4 amd64 x86\\_64 with debian 8.8 \\\\ \\hline\n",
       "numpy & 1.12.1 \\\\ \\hline\n",
       "chemview & 0.7.0.dev \\\\ \\hline\n",
       "\\hline \\multicolumn{2}{|l|}{Tue May 30 16:48:23 2017 CEST} \\\\ \\hline\n",
       "\\end{tabular}\n"
      ],
      "text/plain": [
       "Software versions\n",
       "Python 3.6.1 64bit [GCC 4.4.7 20120313 (Red Hat 4.4.7-1)]\n",
       "IPython 6.0.0\n",
       "OS Linux 3.16.0 4 amd64 x86_64 with debian 8.8\n",
       "numpy 1.12.1\n",
       "chemview 0.7.0.dev\n",
       "Tue May 30 16:48:23 2017 CEST"
      ]
     },
     "execution_count": 39,
     "metadata": {},
     "output_type": "execute_result"
    }
   ],
   "source": [
    "%version_information numpy, chemview"
   ]
  }
 ],
 "metadata": {
  "kernelspec": {
   "display_name": "Python 3",
   "language": "python",
   "name": "python3"
  },
  "language_info": {
   "codemirror_mode": {
    "name": "ipython",
    "version": 3
   },
   "file_extension": ".py",
   "mimetype": "text/x-python",
   "name": "python",
   "nbconvert_exporter": "python",
   "pygments_lexer": "ipython3",
   "version": "3.6.1"
  }
 },
 "nbformat": 4,
 "nbformat_minor": 2
}
